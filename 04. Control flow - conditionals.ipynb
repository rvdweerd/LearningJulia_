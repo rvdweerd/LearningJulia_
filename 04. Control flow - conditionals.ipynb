{
  "cells": [
    {
      "cell_type": "code",
      "source": [
        "x=Int32(1)\n",
        "y=Float64(1.100000000000001)"
      ],
      "outputs": [
        {
          "output_type": "execute_result",
          "execution_count": 22,
          "data": {
            "text/plain": [
              "1.100000000000001"
            ]
          },
          "metadata": {}
        }
      ],
      "execution_count": 22,
      "metadata": {
        "collapsed": true,
        "jupyter": {
          "source_hidden": false,
          "outputs_hidden": false
        },
        "nteract": {
          "transient": {
            "deleting": false
          }
        },
        "execution": {
          "iopub.status.busy": "2020-06-29T19:14:31.754Z",
          "iopub.execute_input": "2020-06-29T19:14:31.757Z",
          "iopub.status.idle": "2020-06-29T19:14:31.768Z"
        }
      }
    },
    {
      "cell_type": "code",
      "source": [
        "if x>y\n",
        "  println(\"$x is greater than $y\") \n",
        "elseif y>x\n",
        "  println(\"$y is greater than $x\")\n",
        "else\n",
        "  println(\"$x and $y are equal\")\n",
        "end"
      ],
      "outputs": [
        {
          "output_type": "stream",
          "name": "stdout",
          "text": [
            "1.100000000000001 is greater than 1\n"
          ]
        }
      ],
      "execution_count": 23,
      "metadata": {
        "collapsed": true,
        "jupyter": {
          "source_hidden": false,
          "outputs_hidden": false
        },
        "nteract": {
          "transient": {
            "deleting": false
          }
        },
        "execution": {
          "iopub.status.busy": "2020-06-29T19:14:32.232Z",
          "iopub.execute_input": "2020-06-29T19:14:32.238Z",
          "iopub.status.idle": "2020-06-29T19:14:32.252Z"
        }
      }
    },
    {
      "cell_type": "code",
      "source": [
        "if x>y\n",
        "  x\n",
        "else\n",
        "  y\n",
        "end"
      ],
      "outputs": [
        {
          "output_type": "execute_result",
          "execution_count": 24,
          "data": {
            "text/plain": [
              "1.100000000000001"
            ]
          },
          "metadata": {}
        }
      ],
      "execution_count": 24,
      "metadata": {
        "collapsed": true,
        "jupyter": {
          "source_hidden": false,
          "outputs_hidden": false
        },
        "nteract": {
          "transient": {
            "deleting": false
          }
        },
        "execution": {
          "iopub.status.busy": "2020-06-29T19:14:33.442Z",
          "iopub.execute_input": "2020-06-29T19:14:33.445Z",
          "iopub.status.idle": "2020-06-29T19:14:33.450Z"
        }
      }
    },
    {
      "cell_type": "code",
      "source": [
        "x > y ? x : y"
      ],
      "outputs": [
        {
          "output_type": "execute_result",
          "execution_count": 25,
          "data": {
            "text/plain": [
              "1.100000000000001"
            ]
          },
          "metadata": {}
        }
      ],
      "execution_count": 25,
      "metadata": {
        "collapsed": true,
        "jupyter": {
          "source_hidden": false,
          "outputs_hidden": false
        },
        "nteract": {
          "transient": {
            "deleting": false
          }
        },
        "execution": {
          "iopub.status.busy": "2020-06-29T19:14:34.469Z",
          "iopub.execute_input": "2020-06-29T19:14:34.473Z",
          "iopub.status.idle": "2020-06-29T19:14:34.478Z"
        }
      }
    },
    {
      "cell_type": "code",
      "source": [
        "(x>y) && println(\"$x is greater than $y\")\n",
        "(x<y) && println(\"$y is greater than $x\")"
      ],
      "outputs": [
        {
          "output_type": "stream",
          "name": "stdout",
          "text": [
            "1.100000000000001 is greater than 1\n"
          ]
        }
      ],
      "execution_count": 29,
      "metadata": {
        "collapsed": true,
        "jupyter": {
          "source_hidden": false,
          "outputs_hidden": false
        },
        "nteract": {
          "transient": {
            "deleting": false
          }
        },
        "execution": {
          "iopub.status.busy": "2020-06-29T19:17:21.329Z",
          "iopub.execute_input": "2020-06-29T19:17:21.332Z",
          "iopub.status.idle": "2020-06-29T19:17:21.339Z"
        }
      }
    },
    {
      "cell_type": "code",
      "source": [
        "k=1\n",
        "((k % 2) == 0) ? println(\"even\") : println(\"odd\")"
      ],
      "outputs": [
        {
          "output_type": "stream",
          "name": "stdout",
          "text": [
            "odd\n"
          ]
        }
      ],
      "execution_count": 36,
      "metadata": {
        "collapsed": true,
        "jupyter": {
          "source_hidden": false,
          "outputs_hidden": false
        },
        "nteract": {
          "transient": {
            "deleting": false
          }
        },
        "execution": {
          "iopub.status.busy": "2020-06-29T19:19:58.954Z",
          "iopub.execute_input": "2020-06-29T19:19:58.957Z",
          "iopub.status.idle": "2020-06-29T19:19:58.965Z"
        }
      }
    },
    {
      "cell_type": "code",
      "source": [],
      "outputs": [],
      "execution_count": null,
      "metadata": {
        "collapsed": true,
        "jupyter": {
          "source_hidden": false,
          "outputs_hidden": false
        },
        "nteract": {
          "transient": {
            "deleting": false
          }
        }
      }
    }
  ],
  "metadata": {
    "kernel_info": {
      "name": "julia-1.4"
    },
    "language_info": {
      "file_extension": ".jl",
      "name": "julia",
      "mimetype": "application/julia",
      "version": "1.4.1"
    },
    "kernelspec": {
      "argv": [
        "C:\\Users\\Van Der Weerd\\AppData\\Local\\Programs\\Julia\\Julia-1.4.1\\bin\\julia.exe",
        "-i",
        "--startup-file=yes",
        "--color=yes",
        "--project=@.",
        "C:\\Users\\Van Der Weerd\\.julia\\packages\\IJulia\\DrVMH\\src\\kernel.jl",
        "{connection_file}"
      ],
      "display_name": "Julia 1.4.1",
      "env": {},
      "interrupt_mode": "message",
      "language": "julia",
      "name": "julia-1.4"
    },
    "nteract": {
      "version": "0.23.3"
    }
  },
  "nbformat": 4,
  "nbformat_minor": 0
}