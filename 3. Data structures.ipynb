{
  "cells": [
    {
      "cell_type": "markdown",
      "source": [
        "DICTIONARIES"
      ],
      "metadata": {
        "nteract": {
          "transient": {
            "deleting": false
          }
        }
      }
    },
    {
      "cell_type": "code",
      "source": [
        "myPhonebook = Dict(\"Rogier\" => \"123\",\"Flip\" => \"222\")"
      ],
      "outputs": [
        {
          "output_type": "execute_result",
          "execution_count": 114,
          "data": {
            "text/plain": [
              "Dict{String,String} with 2 entries:\n",
              "  \"Rogier\" => \"123\"\n",
              "  \"Flip\"   => \"222\""
            ]
          },
          "metadata": {}
        }
      ],
      "execution_count": 114,
      "metadata": {
        "collapsed": true,
        "jupyter": {
          "source_hidden": false,
          "outputs_hidden": false
        },
        "nteract": {
          "transient": {
            "deleting": false
          }
        },
        "execution": {
          "iopub.status.busy": "2020-06-28T21:18:22.425Z",
          "iopub.execute_input": "2020-06-28T21:18:22.437Z",
          "iopub.status.idle": "2020-06-28T21:18:22.459Z"
        }
      }
    },
    {
      "cell_type": "code",
      "source": [
        "myPhonebook[\"Rogier\"]"
      ],
      "outputs": [
        {
          "output_type": "execute_result",
          "execution_count": 115,
          "data": {
            "text/plain": [
              "\"123\""
            ]
          },
          "metadata": {}
        }
      ],
      "execution_count": 115,
      "metadata": {
        "collapsed": true,
        "jupyter": {
          "source_hidden": false,
          "outputs_hidden": false
        },
        "nteract": {
          "transient": {
            "deleting": false
          }
        },
        "execution": {
          "iopub.status.busy": "2020-06-28T21:18:22.473Z",
          "iopub.execute_input": "2020-06-28T21:18:22.483Z",
          "iopub.status.idle": "2020-06-28T21:18:22.504Z"
        }
      }
    },
    {
      "cell_type": "code",
      "source": [
        "myPhonebook[\"Jerry\"] = \"555\""
      ],
      "outputs": [
        {
          "output_type": "execute_result",
          "execution_count": 116,
          "data": {
            "text/plain": [
              "\"555\""
            ]
          },
          "metadata": {}
        }
      ],
      "execution_count": 116,
      "metadata": {
        "collapsed": true,
        "jupyter": {
          "source_hidden": false,
          "outputs_hidden": false
        },
        "nteract": {
          "transient": {
            "deleting": false
          }
        },
        "execution": {
          "iopub.status.busy": "2020-06-28T21:18:22.519Z",
          "iopub.execute_input": "2020-06-28T21:18:22.529Z",
          "iopub.status.idle": "2020-06-28T21:18:22.549Z"
        }
      }
    },
    {
      "cell_type": "code",
      "source": [
        "myPhonebook"
      ],
      "outputs": [
        {
          "output_type": "execute_result",
          "execution_count": 117,
          "data": {
            "text/plain": [
              "Dict{String,String} with 3 entries:\n",
              "  \"Rogier\" => \"123\"\n",
              "  \"Jerry\"  => \"555\"\n",
              "  \"Flip\"   => \"222\""
            ]
          },
          "metadata": {}
        }
      ],
      "execution_count": 117,
      "metadata": {
        "collapsed": true,
        "jupyter": {
          "source_hidden": false,
          "outputs_hidden": false
        },
        "nteract": {
          "transient": {
            "deleting": false
          }
        },
        "execution": {
          "iopub.status.busy": "2020-06-28T21:18:22.563Z",
          "iopub.execute_input": "2020-06-28T21:18:22.573Z",
          "iopub.status.idle": "2020-06-28T21:18:22.597Z"
        }
      }
    },
    {
      "cell_type": "code",
      "source": [
        "println(myPhonebook)"
      ],
      "outputs": [
        {
          "output_type": "stream",
          "name": "stdout",
          "text": [
            "Dict(\"Rogier\" => \"123\",\"Jerry\" => \"555\",\"Flip\" => \"222\")\n"
          ]
        }
      ],
      "execution_count": 118,
      "metadata": {
        "collapsed": true,
        "jupyter": {
          "source_hidden": false,
          "outputs_hidden": false
        },
        "nteract": {
          "transient": {
            "deleting": false
          }
        },
        "execution": {
          "iopub.status.busy": "2020-06-28T21:18:22.612Z",
          "iopub.execute_input": "2020-06-28T21:18:22.621Z",
          "iopub.status.idle": "2020-06-28T21:18:22.643Z"
        }
      }
    },
    {
      "cell_type": "code",
      "source": [
        "extr = pop!(myPhonebook,\"Rogier\")"
      ],
      "outputs": [
        {
          "output_type": "execute_result",
          "execution_count": 119,
          "data": {
            "text/plain": [
              "\"123\""
            ]
          },
          "metadata": {}
        }
      ],
      "execution_count": 119,
      "metadata": {
        "collapsed": true,
        "jupyter": {
          "source_hidden": false,
          "outputs_hidden": false
        },
        "nteract": {
          "transient": {
            "deleting": false
          }
        },
        "execution": {
          "iopub.status.busy": "2020-06-28T21:18:22.659Z",
          "iopub.execute_input": "2020-06-28T21:18:22.669Z",
          "iopub.status.idle": "2020-06-28T21:18:22.690Z"
        }
      }
    },
    {
      "cell_type": "code",
      "source": [
        "myPhonebook"
      ],
      "outputs": [
        {
          "output_type": "execute_result",
          "execution_count": 120,
          "data": {
            "text/plain": [
              "Dict{String,String} with 2 entries:\n",
              "  \"Jerry\" => \"555\"\n",
              "  \"Flip\"  => \"222\""
            ]
          },
          "metadata": {}
        }
      ],
      "execution_count": 120,
      "metadata": {
        "collapsed": true,
        "jupyter": {
          "source_hidden": false,
          "outputs_hidden": false
        },
        "nteract": {
          "transient": {
            "deleting": false
          }
        },
        "execution": {
          "iopub.status.busy": "2020-06-28T21:18:22.705Z",
          "iopub.execute_input": "2020-06-28T21:18:22.715Z",
          "iopub.status.idle": "2020-06-28T21:18:22.735Z"
        }
      }
    },
    {
      "cell_type": "markdown",
      "source": [
        "TUPLES"
      ],
      "metadata": {
        "nteract": {
          "transient": {
            "deleting": false
          }
        }
      }
    },
    {
      "cell_type": "code",
      "source": [
        "mylist = (\"cats\",\"dogs\",3)"
      ],
      "outputs": [
        {
          "output_type": "execute_result",
          "execution_count": 121,
          "data": {
            "text/plain": [
              "(\"cats\", \"dogs\", 3)"
            ]
          },
          "metadata": {}
        }
      ],
      "execution_count": 121,
      "metadata": {
        "collapsed": true,
        "jupyter": {
          "source_hidden": false,
          "outputs_hidden": false
        },
        "nteract": {
          "transient": {
            "deleting": false
          }
        },
        "execution": {
          "iopub.status.busy": "2020-06-28T21:18:22.750Z",
          "iopub.execute_input": "2020-06-28T21:18:22.760Z",
          "iopub.status.idle": "2020-06-28T21:18:22.780Z"
        }
      }
    },
    {
      "cell_type": "code",
      "source": [
        "typeof(mylist)"
      ],
      "outputs": [
        {
          "output_type": "execute_result",
          "execution_count": 122,
          "data": {
            "text/plain": [
              "Tuple{String,String,Int64}"
            ]
          },
          "metadata": {}
        }
      ],
      "execution_count": 122,
      "metadata": {
        "collapsed": true,
        "jupyter": {
          "source_hidden": false,
          "outputs_hidden": false
        },
        "nteract": {
          "transient": {
            "deleting": false
          }
        },
        "execution": {
          "iopub.status.busy": "2020-06-28T21:18:22.795Z",
          "iopub.execute_input": "2020-06-28T21:18:22.805Z",
          "iopub.status.idle": "2020-06-28T21:18:22.826Z"
        }
      }
    },
    {
      "cell_type": "code",
      "source": [
        "mylist[1]"
      ],
      "outputs": [
        {
          "output_type": "execute_result",
          "execution_count": 123,
          "data": {
            "text/plain": [
              "\"cats\""
            ]
          },
          "metadata": {}
        }
      ],
      "execution_count": 123,
      "metadata": {
        "collapsed": true,
        "jupyter": {
          "source_hidden": false,
          "outputs_hidden": false
        },
        "nteract": {
          "transient": {
            "deleting": false
          }
        },
        "execution": {
          "iopub.status.busy": "2020-06-28T21:18:22.842Z",
          "iopub.execute_input": "2020-06-28T21:18:22.853Z",
          "iopub.status.idle": "2020-06-28T21:18:22.873Z"
        }
      }
    },
    {
      "cell_type": "code",
      "source": [
        "mylist[1]=\"r\""
      ],
      "outputs": [
        {
          "output_type": "error",
          "ename": "MethodError",
          "evalue": "MethodError: no method matching setindex!(::Tuple{String,String,Int64}, ::String, ::Int64)",
          "traceback": [
            "MethodError: no method matching setindex!(::Tuple{String,String,Int64}, ::String, ::Int64)",
            "",
            "Stacktrace:",
            " [1] top-level scope at In[124]:1"
          ]
        }
      ],
      "execution_count": 124,
      "metadata": {
        "collapsed": true,
        "jupyter": {
          "source_hidden": false,
          "outputs_hidden": false
        },
        "nteract": {
          "transient": {
            "deleting": false
          }
        },
        "execution": {
          "iopub.status.busy": "2020-06-28T21:18:22.888Z",
          "iopub.execute_input": "2020-06-28T21:18:22.899Z",
          "iopub.status.idle": "2020-06-28T21:18:22.920Z"
        }
      }
    },
    {
      "cell_type": "markdown",
      "source": [
        "ARRAYS"
      ],
      "metadata": {
        "nteract": {
          "transient": {
            "deleting": false
          }
        }
      }
    },
    {
      "cell_type": "code",
      "source": [
        "myfriends = [\"a\",\"b\",\"c\"]"
      ],
      "outputs": [
        {
          "output_type": "execute_result",
          "execution_count": 125,
          "data": {
            "text/plain": [
              "3-element Array{String,1}:\n",
              " \"a\"\n",
              " \"b\"\n",
              " \"c\""
            ]
          },
          "metadata": {}
        }
      ],
      "execution_count": 125,
      "metadata": {
        "collapsed": true,
        "jupyter": {
          "source_hidden": false,
          "outputs_hidden": false
        },
        "nteract": {
          "transient": {
            "deleting": false
          }
        },
        "execution": {
          "iopub.status.busy": "2020-06-28T21:18:22.935Z",
          "iopub.execute_input": "2020-06-28T21:18:22.946Z",
          "iopub.status.idle": "2020-06-28T21:18:22.967Z"
        }
      }
    },
    {
      "cell_type": "code",
      "source": [
        "fib = [1,1,2,3,4,8,13]"
      ],
      "outputs": [
        {
          "output_type": "execute_result",
          "execution_count": 126,
          "data": {
            "text/plain": [
              "7-element Array{Int64,1}:\n",
              "  1\n",
              "  1\n",
              "  2\n",
              "  3\n",
              "  4\n",
              "  8\n",
              " 13"
            ]
          },
          "metadata": {}
        }
      ],
      "execution_count": 126,
      "metadata": {
        "collapsed": true,
        "jupyter": {
          "source_hidden": false,
          "outputs_hidden": false
        },
        "nteract": {
          "transient": {
            "deleting": false
          }
        },
        "execution": {
          "iopub.status.busy": "2020-06-28T21:18:22.983Z",
          "iopub.execute_input": "2020-06-28T21:18:22.992Z",
          "iopub.status.idle": "2020-06-28T21:18:23.012Z"
        }
      }
    },
    {
      "cell_type": "code",
      "source": [
        "fib'*fib"
      ],
      "outputs": [
        {
          "output_type": "execute_result",
          "execution_count": 127,
          "data": {
            "text/plain": [
              "264"
            ]
          },
          "metadata": {}
        }
      ],
      "execution_count": 127,
      "metadata": {
        "collapsed": true,
        "jupyter": {
          "source_hidden": false,
          "outputs_hidden": false
        },
        "nteract": {
          "transient": {
            "deleting": false
          }
        },
        "execution": {
          "iopub.status.busy": "2020-06-28T21:18:23.027Z",
          "iopub.execute_input": "2020-06-28T21:18:23.037Z",
          "iopub.status.idle": "2020-06-28T21:18:23.057Z"
        }
      }
    },
    {
      "cell_type": "code",
      "source": [
        "push!(fib,21)"
      ],
      "outputs": [
        {
          "output_type": "execute_result",
          "execution_count": 128,
          "data": {
            "text/plain": [
              "8-element Array{Int64,1}:\n",
              "  1\n",
              "  1\n",
              "  2\n",
              "  3\n",
              "  4\n",
              "  8\n",
              " 13\n",
              " 21"
            ]
          },
          "metadata": {}
        }
      ],
      "execution_count": 128,
      "metadata": {
        "collapsed": true,
        "jupyter": {
          "source_hidden": false,
          "outputs_hidden": false
        },
        "nteract": {
          "transient": {
            "deleting": false
          }
        },
        "execution": {
          "iopub.status.busy": "2020-06-28T21:18:23.073Z",
          "iopub.execute_input": "2020-06-28T21:18:23.083Z",
          "iopub.status.idle": "2020-06-28T21:18:23.103Z"
        }
      }
    },
    {
      "cell_type": "code",
      "source": [
        "pop!(fib)"
      ],
      "outputs": [
        {
          "output_type": "execute_result",
          "execution_count": 129,
          "data": {
            "text/plain": [
              "21"
            ]
          },
          "metadata": {}
        }
      ],
      "execution_count": 129,
      "metadata": {
        "collapsed": true,
        "jupyter": {
          "source_hidden": false,
          "outputs_hidden": false
        },
        "nteract": {
          "transient": {
            "deleting": false
          }
        },
        "execution": {
          "iopub.status.busy": "2020-06-28T21:18:23.119Z",
          "iopub.execute_input": "2020-06-28T21:18:23.129Z",
          "iopub.status.idle": "2020-06-28T21:18:23.149Z"
        }
      }
    },
    {
      "cell_type": "code",
      "source": [
        "fib"
      ],
      "outputs": [
        {
          "output_type": "execute_result",
          "execution_count": 130,
          "data": {
            "text/plain": [
              "7-element Array{Int64,1}:\n",
              "  1\n",
              "  1\n",
              "  2\n",
              "  3\n",
              "  4\n",
              "  8\n",
              " 13"
            ]
          },
          "metadata": {}
        }
      ],
      "execution_count": 130,
      "metadata": {
        "collapsed": true,
        "jupyter": {
          "source_hidden": false,
          "outputs_hidden": false
        },
        "nteract": {
          "transient": {
            "deleting": false
          }
        },
        "execution": {
          "iopub.status.busy": "2020-06-28T21:18:23.164Z",
          "iopub.execute_input": "2020-06-28T21:18:23.175Z",
          "iopub.status.idle": "2020-06-28T21:18:23.195Z"
        }
      }
    },
    {
      "cell_type": "code",
      "source": [
        "numbers = [[1,2,3],[4,5],[2]]"
      ],
      "outputs": [
        {
          "output_type": "execute_result",
          "execution_count": 131,
          "data": {
            "text/plain": [
              "3-element Array{Array{Int64,1},1}:\n",
              " [1, 2, 3]\n",
              " [4, 5]\n",
              " [2]"
            ]
          },
          "metadata": {}
        }
      ],
      "execution_count": 131,
      "metadata": {
        "collapsed": true,
        "jupyter": {
          "source_hidden": false,
          "outputs_hidden": false
        },
        "nteract": {
          "transient": {
            "deleting": false
          }
        },
        "execution": {
          "iopub.status.busy": "2020-06-28T21:18:23.211Z",
          "iopub.execute_input": "2020-06-28T21:18:23.221Z",
          "iopub.status.idle": "2020-06-28T21:18:23.241Z"
        }
      }
    },
    {
      "cell_type": "code",
      "source": [
        "rand(2,3)"
      ],
      "outputs": [
        {
          "output_type": "execute_result",
          "execution_count": 132,
          "data": {
            "text/plain": [
              "2×3 Array{Float64,2}:\n",
              " 0.0926896  0.419784  0.0616732\n",
              " 0.836499   0.966794  0.176345"
            ]
          },
          "metadata": {}
        }
      ],
      "execution_count": 132,
      "metadata": {
        "collapsed": true,
        "jupyter": {
          "source_hidden": false,
          "outputs_hidden": false
        },
        "nteract": {
          "transient": {
            "deleting": false
          }
        },
        "execution": {
          "iopub.status.busy": "2020-06-28T21:18:23.257Z",
          "iopub.execute_input": "2020-06-28T21:18:23.267Z",
          "iopub.status.idle": "2020-06-28T21:18:23.289Z"
        }
      }
    },
    {
      "cell_type": "code",
      "source": [
        "rand(2,3,2)"
      ],
      "outputs": [
        {
          "output_type": "execute_result",
          "execution_count": 133,
          "data": {
            "text/plain": [
              "2×3×2 Array{Float64,3}:\n",
              "[:, :, 1] =\n",
              " 0.600978  0.378933  0.196375\n",
              " 0.327158  0.427368  0.170792\n",
              "\n",
              "[:, :, 2] =\n",
              " 0.396675   0.812675  0.0563634\n",
              " 0.0253267  0.312294  0.89602"
            ]
          },
          "metadata": {}
        }
      ],
      "execution_count": 133,
      "metadata": {
        "collapsed": true,
        "jupyter": {
          "source_hidden": false,
          "outputs_hidden": false
        },
        "nteract": {
          "transient": {
            "deleting": false
          }
        },
        "execution": {
          "iopub.status.busy": "2020-06-28T21:18:23.304Z",
          "iopub.execute_input": "2020-06-28T21:18:23.314Z",
          "iopub.status.idle": "2020-06-28T21:18:23.335Z"
        }
      }
    },
    {
      "cell_type": "code",
      "source": [
        "fib"
      ],
      "outputs": [
        {
          "output_type": "execute_result",
          "execution_count": 134,
          "data": {
            "text/plain": [
              "7-element Array{Int64,1}:\n",
              "  1\n",
              "  1\n",
              "  2\n",
              "  3\n",
              "  4\n",
              "  8\n",
              " 13"
            ]
          },
          "metadata": {}
        }
      ],
      "execution_count": 134,
      "metadata": {
        "collapsed": true,
        "jupyter": {
          "source_hidden": false,
          "outputs_hidden": false
        },
        "nteract": {
          "transient": {
            "deleting": false
          }
        },
        "execution": {
          "iopub.status.busy": "2020-06-28T21:18:23.350Z",
          "iopub.execute_input": "2020-06-28T21:18:23.360Z",
          "iopub.status.idle": "2020-06-28T21:18:23.387Z"
        }
      }
    },
    {
      "cell_type": "code",
      "source": [
        "somenum = fib"
      ],
      "outputs": [
        {
          "output_type": "execute_result",
          "execution_count": 135,
          "data": {
            "text/plain": [
              "7-element Array{Int64,1}:\n",
              "  1\n",
              "  1\n",
              "  2\n",
              "  3\n",
              "  4\n",
              "  8\n",
              " 13"
            ]
          },
          "metadata": {}
        }
      ],
      "execution_count": 135,
      "metadata": {
        "collapsed": true,
        "jupyter": {
          "source_hidden": false,
          "outputs_hidden": false
        },
        "nteract": {
          "transient": {
            "deleting": false
          }
        },
        "execution": {
          "iopub.status.busy": "2020-06-28T21:18:23.403Z",
          "iopub.execute_input": "2020-06-28T21:18:23.412Z",
          "iopub.status.idle": "2020-06-28T21:18:23.434Z"
        }
      }
    },
    {
      "cell_type": "code",
      "source": [
        "somenum[1]=10\n",
        "fib"
      ],
      "outputs": [
        {
          "output_type": "execute_result",
          "execution_count": 136,
          "data": {
            "text/plain": [
              "7-element Array{Int64,1}:\n",
              " 10\n",
              "  1\n",
              "  2\n",
              "  3\n",
              "  4\n",
              "  8\n",
              " 13"
            ]
          },
          "metadata": {}
        }
      ],
      "execution_count": 136,
      "metadata": {
        "collapsed": true,
        "jupyter": {
          "source_hidden": false,
          "outputs_hidden": false
        },
        "nteract": {
          "transient": {
            "deleting": false
          }
        },
        "execution": {
          "iopub.status.busy": "2020-06-28T21:18:23.450Z",
          "iopub.execute_input": "2020-06-28T21:18:23.461Z",
          "iopub.status.idle": "2020-06-28T21:18:23.482Z"
        }
      }
    },
    {
      "cell_type": "code",
      "source": [
        "fib[1]=1"
      ],
      "outputs": [
        {
          "output_type": "execute_result",
          "execution_count": 137,
          "data": {
            "text/plain": [
              "1"
            ]
          },
          "metadata": {}
        }
      ],
      "execution_count": 137,
      "metadata": {
        "collapsed": true,
        "jupyter": {
          "source_hidden": false,
          "outputs_hidden": false
        },
        "nteract": {
          "transient": {
            "deleting": false
          }
        },
        "execution": {
          "iopub.status.busy": "2020-06-28T21:18:23.499Z",
          "iopub.execute_input": "2020-06-28T21:18:23.510Z",
          "iopub.status.idle": "2020-06-28T21:18:23.530Z"
        }
      }
    },
    {
      "cell_type": "code",
      "source": [
        "somenum = copy(fib)"
      ],
      "outputs": [
        {
          "output_type": "execute_result",
          "execution_count": 138,
          "data": {
            "text/plain": [
              "7-element Array{Int64,1}:\n",
              "  1\n",
              "  1\n",
              "  2\n",
              "  3\n",
              "  4\n",
              "  8\n",
              " 13"
            ]
          },
          "metadata": {}
        }
      ],
      "execution_count": 138,
      "metadata": {
        "collapsed": true,
        "jupyter": {
          "source_hidden": false,
          "outputs_hidden": false
        },
        "nteract": {
          "transient": {
            "deleting": false
          }
        },
        "execution": {
          "iopub.status.busy": "2020-06-28T21:18:23.546Z",
          "iopub.execute_input": "2020-06-28T21:18:23.555Z",
          "iopub.status.idle": "2020-06-28T21:18:23.576Z"
        }
      }
    },
    {
      "cell_type": "code",
      "source": [
        "somenum[1]=404"
      ],
      "outputs": [
        {
          "output_type": "execute_result",
          "execution_count": 139,
          "data": {
            "text/plain": [
              "404"
            ]
          },
          "metadata": {}
        }
      ],
      "execution_count": 139,
      "metadata": {
        "collapsed": true,
        "jupyter": {
          "source_hidden": false,
          "outputs_hidden": false
        },
        "nteract": {
          "transient": {
            "deleting": false
          }
        },
        "execution": {
          "iopub.status.busy": "2020-06-28T21:18:23.592Z",
          "iopub.execute_input": "2020-06-28T21:18:23.602Z",
          "iopub.status.idle": "2020-06-28T21:18:23.622Z"
        }
      }
    },
    {
      "cell_type": "code",
      "source": [
        "fib"
      ],
      "outputs": [
        {
          "output_type": "execute_result",
          "execution_count": 140,
          "data": {
            "text/plain": [
              "7-element Array{Int64,1}:\n",
              "  1\n",
              "  1\n",
              "  2\n",
              "  3\n",
              "  4\n",
              "  8\n",
              " 13"
            ]
          },
          "metadata": {}
        }
      ],
      "execution_count": 140,
      "metadata": {
        "collapsed": true,
        "jupyter": {
          "source_hidden": false,
          "outputs_hidden": false
        },
        "nteract": {
          "transient": {
            "deleting": false
          }
        },
        "execution": {
          "iopub.status.busy": "2020-06-28T21:18:23.637Z",
          "iopub.execute_input": "2020-06-28T21:18:23.650Z",
          "iopub.status.idle": "2020-06-28T21:18:23.671Z"
        }
      }
    },
    {
      "cell_type": "code",
      "source": [
        "a_ray=[1,2,3]\n",
        "push!(a_ray,4)"
      ],
      "outputs": [
        {
          "output_type": "execute_result",
          "execution_count": 141,
          "data": {
            "text/plain": [
              "4-element Array{Int64,1}:\n",
              " 1\n",
              " 2\n",
              " 3\n",
              " 4"
            ]
          },
          "metadata": {}
        }
      ],
      "execution_count": 141,
      "metadata": {
        "collapsed": true,
        "jupyter": {
          "source_hidden": false,
          "outputs_hidden": false
        },
        "nteract": {
          "transient": {
            "deleting": false
          }
        },
        "execution": {
          "iopub.status.busy": "2020-06-28T21:18:23.686Z",
          "iopub.execute_input": "2020-06-28T21:18:23.696Z",
          "iopub.status.idle": "2020-06-28T21:18:23.716Z"
        }
      }
    },
    {
      "cell_type": "code",
      "source": [
        "pop!(a_ray,2)"
      ],
      "outputs": [
        {
          "output_type": "error",
          "ename": "MethodError",
          "evalue": "MethodError: no method matching pop!(::Array{Int64,1}, ::Int64)\nClosest candidates are:\n  pop!(!Matched::BitSet, ::Integer) at bitset.jl:280\n  pop!(!Matched::BitSet, ::Integer, !Matched::Any) at bitset.jl:289\n  pop!(::Array{T,1} where T) at array.jl:1125\n  ...",
          "traceback": [
            "MethodError: no method matching pop!(::Array{Int64,1}, ::Int64)\nClosest candidates are:\n  pop!(!Matched::BitSet, ::Integer) at bitset.jl:280\n  pop!(!Matched::BitSet, ::Integer, !Matched::Any) at bitset.jl:289\n  pop!(::Array{T,1} where T) at array.jl:1125\n  ...",
            "",
            "Stacktrace:",
            " [1] top-level scope at In[142]:1"
          ]
        }
      ],
      "execution_count": 142,
      "metadata": {
        "collapsed": true,
        "jupyter": {
          "source_hidden": false,
          "outputs_hidden": false
        },
        "nteract": {
          "transient": {
            "deleting": false
          }
        },
        "execution": {
          "iopub.status.busy": "2020-06-28T21:18:23.732Z",
          "iopub.execute_input": "2020-06-28T21:18:23.743Z",
          "iopub.status.idle": "2020-06-28T21:18:23.764Z"
        }
      }
    },
    {
      "cell_type": "code",
      "source": [
        "myPhonebook"
      ],
      "outputs": [
        {
          "output_type": "execute_result",
          "execution_count": 143,
          "data": {
            "text/plain": [
              "Dict{String,String} with 2 entries:\n",
              "  \"Jerry\" => \"555\"\n",
              "  \"Flip\"  => \"222\""
            ]
          },
          "metadata": {}
        }
      ],
      "execution_count": 143,
      "metadata": {
        "collapsed": true,
        "jupyter": {
          "source_hidden": false,
          "outputs_hidden": false
        },
        "nteract": {
          "transient": {
            "deleting": false
          }
        },
        "execution": {
          "iopub.status.busy": "2020-06-28T21:18:23.780Z",
          "iopub.execute_input": "2020-06-28T21:18:23.790Z",
          "iopub.status.idle": "2020-06-28T21:18:23.811Z"
        }
      }
    },
    {
      "cell_type": "code",
      "source": [
        "flex_phoneBook = Dict(\"Jenny\" => 1234, \"Dick\" => \"431\")"
      ],
      "outputs": [
        {
          "output_type": "execute_result",
          "execution_count": 144,
          "data": {
            "text/plain": [
              "Dict{String,Any} with 2 entries:\n",
              "  \"Jenny\" => 1234\n",
              "  \"Dick\"  => \"431\""
            ]
          },
          "metadata": {}
        }
      ],
      "execution_count": 144,
      "metadata": {
        "collapsed": true,
        "jupyter": {
          "source_hidden": false,
          "outputs_hidden": false
        },
        "nteract": {
          "transient": {
            "deleting": false
          }
        },
        "execution": {
          "iopub.status.busy": "2020-06-28T21:18:23.827Z",
          "iopub.execute_input": "2020-06-28T21:18:23.837Z",
          "iopub.status.idle": "2020-06-28T21:18:23.859Z"
        }
      }
    },
    {
      "cell_type": "code",
      "source": [
        "flex_phoneBook[\"Emergency\"] = 911"
      ],
      "outputs": [
        {
          "output_type": "execute_result",
          "execution_count": 145,
          "data": {
            "text/plain": [
              "911"
            ]
          },
          "metadata": {}
        }
      ],
      "execution_count": 145,
      "metadata": {
        "collapsed": true,
        "jupyter": {
          "source_hidden": false,
          "outputs_hidden": false
        },
        "nteract": {
          "transient": {
            "deleting": false
          }
        },
        "execution": {
          "iopub.status.busy": "2020-06-28T21:18:23.875Z",
          "iopub.execute_input": "2020-06-28T21:18:23.885Z",
          "iopub.status.idle": "2020-06-28T21:18:23.907Z"
        }
      }
    },
    {
      "cell_type": "code",
      "source": [
        "haskey(flex_phoneBook,\"Emergency\")"
      ],
      "outputs": [
        {
          "output_type": "execute_result",
          "execution_count": 146,
          "data": {
            "text/plain": [
              "true"
            ]
          },
          "metadata": {}
        }
      ],
      "execution_count": 146,
      "metadata": {
        "collapsed": true,
        "jupyter": {
          "source_hidden": false,
          "outputs_hidden": false
        },
        "nteract": {
          "transient": {
            "deleting": false
          }
        },
        "execution": {
          "iopub.status.busy": "2020-06-28T21:18:23.923Z",
          "iopub.execute_input": "2020-06-28T21:18:23.933Z",
          "iopub.status.idle": "2020-06-28T21:18:23.954Z"
        }
      }
    },
    {
      "cell_type": "code",
      "source": [
        "flex_phoneBook"
      ],
      "outputs": [
        {
          "output_type": "execute_result",
          "execution_count": 147,
          "data": {
            "text/plain": [
              "Dict{String,Any} with 3 entries:\n",
              "  \"Jenny\"     => 1234\n",
              "  \"Dick\"      => \"431\"\n",
              "  \"Emergency\" => 911"
            ]
          },
          "metadata": {}
        }
      ],
      "execution_count": 147,
      "metadata": {
        "collapsed": true,
        "jupyter": {
          "source_hidden": false,
          "outputs_hidden": false
        },
        "nteract": {
          "transient": {
            "deleting": false
          }
        },
        "execution": {
          "iopub.status.busy": "2020-06-28T21:18:23.970Z",
          "iopub.execute_input": "2020-06-28T21:18:23.980Z",
          "iopub.status.idle": "2020-06-28T21:18:24.001Z"
        }
      }
    },
    {
      "cell_type": "code",
      "source": [
        "pop!(flex_phoneBook)"
      ],
      "outputs": [
        {
          "output_type": "execute_result",
          "execution_count": 148,
          "data": {
            "text/plain": [
              "\"Jenny\" => 1234"
            ]
          },
          "metadata": {}
        }
      ],
      "execution_count": 148,
      "metadata": {
        "collapsed": true,
        "jupyter": {
          "source_hidden": false,
          "outputs_hidden": false
        },
        "nteract": {
          "transient": {
            "deleting": false
          }
        },
        "execution": {
          "iopub.status.busy": "2020-06-28T21:18:24.016Z",
          "iopub.execute_input": "2020-06-28T21:18:24.026Z",
          "iopub.status.idle": "2020-06-28T21:18:24.048Z"
        }
      }
    },
    {
      "cell_type": "code",
      "source": [
        "flex_phoneBook"
      ],
      "outputs": [
        {
          "output_type": "execute_result",
          "execution_count": 149,
          "data": {
            "text/plain": [
              "Dict{String,Any} with 2 entries:\n",
              "  \"Dick\"      => \"431\"\n",
              "  \"Emergency\" => 911"
            ]
          },
          "metadata": {}
        }
      ],
      "execution_count": 149,
      "metadata": {
        "collapsed": true,
        "jupyter": {
          "source_hidden": false,
          "outputs_hidden": false
        },
        "nteract": {
          "transient": {
            "deleting": false
          }
        },
        "execution": {
          "iopub.status.busy": "2020-06-28T21:18:24.064Z",
          "iopub.execute_input": "2020-06-28T21:18:24.074Z",
          "iopub.status.idle": "2020-06-28T21:18:24.095Z"
        }
      }
    },
    {
      "cell_type": "code",
      "source": [
        "flex_phoneBook[\"Jenny\"] = 1234"
      ],
      "outputs": [
        {
          "output_type": "execute_result",
          "execution_count": 150,
          "data": {
            "text/plain": [
              "1234"
            ]
          },
          "metadata": {}
        }
      ],
      "execution_count": 150,
      "metadata": {
        "collapsed": true,
        "jupyter": {
          "source_hidden": false,
          "outputs_hidden": false
        },
        "nteract": {
          "transient": {
            "deleting": false
          }
        },
        "execution": {
          "iopub.status.busy": "2020-06-28T21:18:24.111Z",
          "iopub.execute_input": "2020-06-28T21:18:24.121Z",
          "iopub.status.idle": "2020-06-28T21:18:24.142Z"
        }
      }
    },
    {
      "cell_type": "code",
      "source": [
        "flex_phoneBook[\"Jenny\"] = 123"
      ],
      "outputs": [
        {
          "output_type": "execute_result",
          "execution_count": 151,
          "data": {
            "text/plain": [
              "123"
            ]
          },
          "metadata": {}
        }
      ],
      "execution_count": 151,
      "metadata": {
        "collapsed": true,
        "jupyter": {
          "source_hidden": false,
          "outputs_hidden": false
        },
        "nteract": {
          "transient": {
            "deleting": false
          }
        },
        "execution": {
          "iopub.status.busy": "2020-06-28T21:18:24.158Z",
          "iopub.execute_input": "2020-06-28T21:18:24.169Z",
          "iopub.status.idle": "2020-06-28T21:18:24.190Z"
        }
      }
    },
    {
      "cell_type": "code",
      "source": [
        "flex_phoneBook"
      ],
      "outputs": [
        {
          "output_type": "execute_result",
          "execution_count": 152,
          "data": {
            "text/plain": [
              "Dict{String,Any} with 3 entries:\n",
              "  \"Jenny\"     => 123\n",
              "  \"Dick\"      => \"431\"\n",
              "  \"Emergency\" => 911"
            ]
          },
          "metadata": {}
        }
      ],
      "execution_count": 152,
      "metadata": {
        "collapsed": true,
        "jupyter": {
          "source_hidden": false,
          "outputs_hidden": false
        },
        "nteract": {
          "transient": {
            "deleting": false
          }
        },
        "execution": {
          "iopub.status.busy": "2020-06-28T21:18:24.206Z",
          "iopub.execute_input": "2020-06-28T21:18:24.216Z",
          "iopub.status.idle": "2020-06-28T21:18:24.238Z"
        }
      }
    },
    {
      "cell_type": "code",
      "source": [
        "pop!(flex_phoneBook,\"Dick\")"
      ],
      "outputs": [
        {
          "output_type": "execute_result",
          "execution_count": 153,
          "data": {
            "text/plain": [
              "\"431\""
            ]
          },
          "metadata": {}
        }
      ],
      "execution_count": 153,
      "metadata": {
        "collapsed": true,
        "jupyter": {
          "source_hidden": false,
          "outputs_hidden": false
        },
        "nteract": {
          "transient": {
            "deleting": false
          }
        },
        "execution": {
          "iopub.status.busy": "2020-06-28T21:18:24.253Z",
          "iopub.execute_input": "2020-06-28T21:18:24.264Z",
          "iopub.status.idle": "2020-06-28T21:18:24.285Z"
        }
      }
    },
    {
      "cell_type": "code",
      "source": [
        "typeof(flex_phoneBook)"
      ],
      "outputs": [
        {
          "output_type": "execute_result",
          "execution_count": 154,
          "data": {
            "text/plain": [
              "Dict{String,Any}"
            ]
          },
          "metadata": {}
        }
      ],
      "execution_count": 154,
      "metadata": {
        "collapsed": true,
        "jupyter": {
          "source_hidden": false,
          "outputs_hidden": false
        },
        "nteract": {
          "transient": {
            "deleting": false
          }
        },
        "execution": {
          "iopub.status.busy": "2020-06-28T21:18:24.301Z",
          "iopub.execute_input": "2020-06-28T21:18:24.311Z",
          "iopub.status.idle": "2020-06-28T21:18:24.332Z"
        }
      }
    },
    {
      "cell_type": "code",
      "source": [
        "flex_phoneBook"
      ],
      "outputs": [
        {
          "output_type": "execute_result",
          "execution_count": 155,
          "data": {
            "text/plain": [
              "Dict{String,Any} with 2 entries:\n",
              "  \"Jenny\"     => 123\n",
              "  \"Emergency\" => 911"
            ]
          },
          "metadata": {}
        }
      ],
      "execution_count": 155,
      "metadata": {
        "collapsed": true,
        "jupyter": {
          "source_hidden": false,
          "outputs_hidden": false
        },
        "nteract": {
          "transient": {
            "deleting": false
          }
        },
        "execution": {
          "iopub.status.busy": "2020-06-28T21:18:24.348Z",
          "iopub.execute_input": "2020-06-28T21:18:24.358Z",
          "iopub.status.idle": "2020-06-28T21:18:24.385Z"
        }
      }
    },
    {
      "cell_type": "code",
      "source": [
        "convert(Dict{String,Int32},flex_phoneBook)"
      ],
      "outputs": [
        {
          "output_type": "execute_result",
          "execution_count": 156,
          "data": {
            "text/plain": [
              "Dict{String,Int32} with 2 entries:\n",
              "  \"Jenny\"     => 123\n",
              "  \"Emergency\" => 911"
            ]
          },
          "metadata": {}
        }
      ],
      "execution_count": 156,
      "metadata": {
        "collapsed": true,
        "jupyter": {
          "source_hidden": false,
          "outputs_hidden": false
        },
        "nteract": {
          "transient": {
            "deleting": false
          }
        },
        "execution": {
          "iopub.status.busy": "2020-06-28T21:18:24.401Z",
          "iopub.execute_input": "2020-06-28T21:18:24.411Z",
          "iopub.status.idle": "2020-06-28T21:18:24.433Z"
        }
      }
    },
    {
      "cell_type": "code",
      "source": [],
      "outputs": [],
      "execution_count": null,
      "metadata": {
        "collapsed": true,
        "jupyter": {
          "source_hidden": false,
          "outputs_hidden": false
        },
        "nteract": {
          "transient": {
            "deleting": false
          }
        }
      }
    }
  ],
  "metadata": {
    "kernel_info": {
      "name": "julia-1.4"
    },
    "language_info": {
      "file_extension": ".jl",
      "name": "julia",
      "mimetype": "application/julia",
      "version": "1.4.1"
    },
    "kernelspec": {
      "argv": [
        "C:\\Users\\Van Der Weerd\\AppData\\Local\\Programs\\Julia\\Julia-1.4.1\\bin\\julia.exe",
        "-i",
        "--startup-file=yes",
        "--color=yes",
        "--project=@.",
        "C:\\Users\\Van Der Weerd\\.julia\\packages\\IJulia\\DrVMH\\src\\kernel.jl",
        "{connection_file}"
      ],
      "display_name": "Julia 1.4.1",
      "env": {},
      "interrupt_mode": "message",
      "language": "julia",
      "name": "julia-1.4"
    },
    "nteract": {
      "version": "0.23.3"
    }
  },
  "nbformat": 4,
  "nbformat_minor": 0
}