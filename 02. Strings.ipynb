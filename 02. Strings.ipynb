{
  "cells": [
    {
      "cell_type": "code",
      "source": [
        "s1 = \"I am a string\""
      ],
      "outputs": [
        {
          "output_type": "execute_result",
          "execution_count": 1,
          "data": {
            "text/plain": [
              "\"I am a string\""
            ]
          },
          "metadata": {}
        }
      ],
      "execution_count": 1,
      "metadata": {
        "collapsed": true,
        "jupyter": {
          "source_hidden": false,
          "outputs_hidden": false
        },
        "nteract": {
          "transient": {
            "deleting": false
          }
        },
        "execution": {
          "iopub.status.busy": "2020-06-28T19:48:44.916Z",
          "iopub.execute_input": "2020-06-28T19:48:46.355Z",
          "iopub.status.idle": "2020-06-28T19:48:47.863Z"
        }
      }
    },
    {
      "cell_type": "code",
      "source": [
        "s2 = \"\"\"I am also a string. \"\"\""
      ],
      "outputs": [
        {
          "output_type": "execute_result",
          "execution_count": 2,
          "data": {
            "text/plain": [
              "\"I am also a string. \""
            ]
          },
          "metadata": {}
        }
      ],
      "execution_count": 2,
      "metadata": {
        "collapsed": true,
        "jupyter": {
          "source_hidden": false,
          "outputs_hidden": false
        },
        "nteract": {
          "transient": {
            "deleting": false
          }
        },
        "execution": {
          "iopub.status.busy": "2020-06-28T19:48:49.205Z",
          "iopub.execute_input": "2020-06-28T19:48:49.213Z",
          "iopub.status.idle": "2020-06-28T19:48:49.222Z"
        }
      }
    },
    {
      "cell_type": "code",
      "source": [
        "\"\"\"hey no \"errors\" !\"\"\""
      ],
      "outputs": [
        {
          "output_type": "execute_result",
          "execution_count": 3,
          "data": {
            "text/plain": [
              "\"hey no \\\"errors\\\" !\""
            ]
          },
          "metadata": {}
        }
      ],
      "execution_count": 3,
      "metadata": {
        "collapsed": true,
        "jupyter": {
          "source_hidden": false,
          "outputs_hidden": false
        },
        "nteract": {
          "transient": {
            "deleting": false
          }
        },
        "execution": {
          "iopub.status.busy": "2020-06-28T19:49:16.095Z",
          "iopub.execute_input": "2020-06-28T19:49:16.099Z",
          "iopub.status.idle": "2020-06-28T19:49:16.107Z"
        }
      }
    },
    {
      "cell_type": "code",
      "source": [
        "typeof('\\n')"
      ],
      "outputs": [
        {
          "output_type": "execute_result",
          "execution_count": 4,
          "data": {
            "text/plain": [
              "Char"
            ]
          },
          "metadata": {}
        }
      ],
      "execution_count": 4,
      "metadata": {
        "collapsed": true,
        "jupyter": {
          "source_hidden": false,
          "outputs_hidden": false
        },
        "nteract": {
          "transient": {
            "deleting": false
          }
        },
        "execution": {
          "iopub.status.busy": "2020-06-28T19:49:34.435Z",
          "iopub.execute_input": "2020-06-28T19:49:34.445Z",
          "iopub.status.idle": "2020-06-28T19:49:34.820Z"
        }
      }
    },
    {
      "cell_type": "markdown",
      "source": [
        "STRING INTERPOLATION"
      ],
      "metadata": {
        "nteract": {
          "transient": {
            "deleting": false
          }
        }
      }
    },
    {
      "cell_type": "code",
      "source": [
        "name = \"Rogier\"\n",
        "num_fingers = 10\n",
        "num_toes = 10"
      ],
      "outputs": [
        {
          "output_type": "execute_result",
          "execution_count": 10,
          "data": {
            "text/plain": [
              "10"
            ]
          },
          "metadata": {}
        }
      ],
      "execution_count": 10,
      "metadata": {
        "collapsed": true,
        "jupyter": {
          "source_hidden": false,
          "outputs_hidden": false
        },
        "nteract": {
          "transient": {
            "deleting": false
          }
        },
        "execution": {
          "iopub.status.busy": "2020-06-28T19:53:22.248Z",
          "iopub.execute_input": "2020-06-28T19:53:22.251Z",
          "iopub.status.idle": "2020-06-28T19:53:22.471Z"
        }
      }
    },
    {
      "cell_type": "code",
      "source": [
        "println(\"I am $name. I have $num_toes toes..\")"
      ],
      "outputs": [
        {
          "output_type": "stream",
          "name": "stdout",
          "text": [
            "I am Rogier. I have 10 toes..\n"
          ]
        }
      ],
      "execution_count": 12,
      "metadata": {
        "collapsed": true,
        "jupyter": {
          "source_hidden": false,
          "outputs_hidden": false
        },
        "nteract": {
          "transient": {
            "deleting": false
          }
        },
        "execution": {
          "iopub.status.busy": "2020-06-28T19:53:47.977Z",
          "iopub.execute_input": "2020-06-28T19:53:47.981Z",
          "iopub.status.idle": "2020-06-28T19:53:47.989Z"
        }
      }
    },
    {
      "cell_type": "code",
      "source": [
        "println(\"That's $(num_toes+num_fingers) in total\")"
      ],
      "outputs": [
        {
          "output_type": "stream",
          "name": "stdout",
          "text": [
            "That's 20 in total\n"
          ]
        }
      ],
      "execution_count": 13,
      "metadata": {
        "collapsed": true,
        "jupyter": {
          "source_hidden": false,
          "outputs_hidden": false
        },
        "nteract": {
          "transient": {
            "deleting": false
          }
        },
        "execution": {
          "iopub.status.busy": "2020-06-28T19:54:07.176Z",
          "iopub.execute_input": "2020-06-28T19:54:07.181Z",
          "iopub.status.idle": "2020-06-28T19:54:07.192Z"
        }
      }
    },
    {
      "cell_type": "code",
      "source": [
        "string(\"part 1, \",\"part 2\")"
      ],
      "outputs": [
        {
          "output_type": "execute_result",
          "execution_count": 14,
          "data": {
            "text/plain": [
              "\"part 1, part 2\""
            ]
          },
          "metadata": {}
        }
      ],
      "execution_count": 14,
      "metadata": {
        "collapsed": true,
        "jupyter": {
          "source_hidden": false,
          "outputs_hidden": false
        },
        "nteract": {
          "transient": {
            "deleting": false
          }
        },
        "execution": {
          "iopub.status.busy": "2020-06-28T19:56:17.772Z",
          "iopub.execute_input": "2020-06-28T19:56:17.776Z",
          "iopub.status.idle": "2020-06-28T19:56:17.785Z"
        }
      }
    },
    {
      "cell_type": "code",
      "source": [
        "string(\"This is awesome\",123,\"!\")"
      ],
      "outputs": [
        {
          "output_type": "execute_result",
          "execution_count": 15,
          "data": {
            "text/plain": [
              "\"This is awesome123!\""
            ]
          },
          "metadata": {}
        }
      ],
      "execution_count": 15,
      "metadata": {
        "collapsed": true,
        "jupyter": {
          "source_hidden": false,
          "outputs_hidden": false
        },
        "nteract": {
          "transient": {
            "deleting": false
          }
        },
        "execution": {
          "iopub.status.busy": "2020-06-28T19:56:37.669Z",
          "iopub.execute_input": "2020-06-28T19:56:37.673Z",
          "iopub.status.idle": "2020-06-28T19:56:37.686Z"
        }
      }
    },
    {
      "cell_type": "code",
      "source": [
        "str1=\"a\";str2=\"b\""
      ],
      "outputs": [
        {
          "output_type": "execute_result",
          "execution_count": 16,
          "data": {
            "text/plain": [
              "\"b\""
            ]
          },
          "metadata": {}
        }
      ],
      "execution_count": 16,
      "metadata": {
        "collapsed": true,
        "jupyter": {
          "source_hidden": false,
          "outputs_hidden": false
        },
        "nteract": {
          "transient": {
            "deleting": false
          }
        },
        "execution": {
          "iopub.status.busy": "2020-06-28T19:57:17.733Z",
          "iopub.execute_input": "2020-06-28T19:57:17.738Z",
          "iopub.status.idle": "2020-06-28T19:57:17.753Z"
        }
      }
    },
    {
      "cell_type": "code",
      "source": [
        "str1*str2"
      ],
      "outputs": [
        {
          "output_type": "execute_result",
          "execution_count": 19,
          "data": {
            "text/plain": [
              "\"ab\""
            ]
          },
          "metadata": {}
        }
      ],
      "execution_count": 19,
      "metadata": {
        "collapsed": true,
        "jupyter": {
          "source_hidden": false,
          "outputs_hidden": false
        },
        "nteract": {
          "transient": {
            "deleting": false
          }
        },
        "execution": {
          "iopub.status.busy": "2020-06-28T19:57:34.791Z",
          "iopub.execute_input": "2020-06-28T19:57:34.795Z",
          "iopub.status.idle": "2020-06-28T19:57:34.806Z"
        }
      }
    },
    {
      "cell_type": "code",
      "source": [
        "\"$str1$str2\""
      ],
      "outputs": [
        {
          "output_type": "execute_result",
          "execution_count": 21,
          "data": {
            "text/plain": [
              "\"ab\""
            ]
          },
          "metadata": {}
        }
      ],
      "execution_count": 21,
      "metadata": {
        "collapsed": true,
        "jupyter": {
          "source_hidden": false,
          "outputs_hidden": false
        },
        "nteract": {
          "transient": {
            "deleting": false
          }
        },
        "execution": {
          "iopub.status.busy": "2020-06-28T19:58:15.221Z",
          "iopub.execute_input": "2020-06-28T19:58:15.228Z",
          "iopub.status.idle": "2020-06-28T19:58:15.242Z"
        }
      }
    },
    {
      "cell_type": "code",
      "source": [
        "'C'^3"
      ],
      "outputs": [
        {
          "output_type": "execute_result",
          "execution_count": 22,
          "data": {
            "text/plain": [
              "\"CCC\""
            ]
          },
          "metadata": {}
        }
      ],
      "execution_count": 22,
      "metadata": {
        "collapsed": true,
        "jupyter": {
          "source_hidden": false,
          "outputs_hidden": false
        },
        "nteract": {
          "transient": {
            "deleting": false
          }
        },
        "execution": {
          "iopub.status.busy": "2020-06-28T20:07:57.382Z",
          "iopub.execute_input": "2020-06-28T20:07:57.389Z",
          "iopub.status.idle": "2020-06-28T20:07:57.401Z"
        }
      }
    },
    {
      "cell_type": "code",
      "source": [
        "hi = repeat(\"hi\",100)"
      ],
      "outputs": [
        {
          "output_type": "execute_result",
          "execution_count": 24,
          "data": {
            "text/plain": [
              "\"hihihihihihihihihihihihihihihihihihihihihihihihihihihihihihihihihihihihihihihihihihihihihihihihihihihihihihihihihihihihihihihihihihihihihihihihihihihihihihihihihihihihihihihihihihihihihihihihihihihihi\""
            ]
          },
          "metadata": {}
        }
      ],
      "execution_count": 24,
      "metadata": {
        "collapsed": true,
        "jupyter": {
          "source_hidden": false,
          "outputs_hidden": false
        },
        "nteract": {
          "transient": {
            "deleting": false
          }
        },
        "execution": {
          "iopub.status.busy": "2020-06-28T20:08:47.360Z",
          "iopub.execute_input": "2020-06-28T20:08:47.368Z",
          "iopub.status.idle": "2020-06-28T20:08:47.384Z"
        }
      }
    },
    {
      "cell_type": "code",
      "source": [
        "@assert length(hi) == 200"
      ],
      "outputs": [],
      "execution_count": 27,
      "metadata": {
        "collapsed": true,
        "jupyter": {
          "source_hidden": false,
          "outputs_hidden": false
        },
        "nteract": {
          "transient": {
            "deleting": false
          }
        },
        "execution": {
          "iopub.status.busy": "2020-06-28T20:09:17.587Z",
          "iopub.execute_input": "2020-06-28T20:09:17.594Z",
          "iopub.status.idle": "2020-06-28T20:09:17.604Z"
        }
      }
    },
    {
      "cell_type": "code",
      "source": [
        "a=3;b=4;"
      ],
      "outputs": [],
      "execution_count": 28,
      "metadata": {
        "collapsed": true,
        "jupyter": {
          "source_hidden": false,
          "outputs_hidden": false
        },
        "nteract": {
          "transient": {
            "deleting": false
          }
        },
        "execution": {
          "iopub.status.busy": "2020-06-28T20:09:53.526Z",
          "iopub.execute_input": "2020-06-28T20:09:53.532Z",
          "iopub.status.idle": "2020-06-28T20:09:53.541Z"
        }
      }
    },
    {
      "cell_type": "code",
      "source": [
        "c = \"$a + $b\""
      ],
      "outputs": [
        {
          "output_type": "execute_result",
          "execution_count": 30,
          "data": {
            "text/plain": [
              "\"3 + 4\""
            ]
          },
          "metadata": {}
        }
      ],
      "execution_count": 30,
      "metadata": {
        "collapsed": true,
        "jupyter": {
          "source_hidden": false,
          "outputs_hidden": false
        },
        "nteract": {
          "transient": {
            "deleting": false
          }
        },
        "execution": {
          "iopub.status.busy": "2020-06-28T20:10:31.248Z",
          "iopub.execute_input": "2020-06-28T20:10:31.253Z",
          "iopub.status.idle": "2020-06-28T20:10:31.266Z"
        }
      }
    },
    {
      "cell_type": "code",
      "source": [
        "d=string(a+b)"
      ],
      "outputs": [
        {
          "output_type": "execute_result",
          "execution_count": 31,
          "data": {
            "text/plain": [
              "\"7\""
            ]
          },
          "metadata": {}
        }
      ],
      "execution_count": 31,
      "metadata": {
        "collapsed": true,
        "jupyter": {
          "source_hidden": false,
          "outputs_hidden": false
        },
        "nteract": {
          "transient": {
            "deleting": false
          }
        },
        "execution": {
          "iopub.status.busy": "2020-06-28T20:10:55.850Z",
          "iopub.execute_input": "2020-06-28T20:10:55.856Z",
          "iopub.status.idle": "2020-06-28T20:10:55.871Z"
        }
      }
    },
    {
      "cell_type": "code",
      "source": [
        "e=\"$(a+b)\""
      ],
      "outputs": [
        {
          "output_type": "execute_result",
          "execution_count": 32,
          "data": {
            "text/plain": [
              "\"7\""
            ]
          },
          "metadata": {}
        }
      ],
      "execution_count": 32,
      "metadata": {
        "collapsed": true,
        "jupyter": {
          "source_hidden": false,
          "outputs_hidden": false
        },
        "nteract": {
          "transient": {
            "deleting": false
          }
        },
        "execution": {
          "iopub.status.busy": "2020-06-28T20:11:27.048Z",
          "iopub.execute_input": "2020-06-28T20:11:27.054Z",
          "iopub.status.idle": "2020-06-28T20:11:27.070Z"
        }
      }
    },
    {
      "cell_type": "code",
      "source": [],
      "outputs": [],
      "execution_count": null,
      "metadata": {
        "collapsed": true,
        "jupyter": {
          "source_hidden": false,
          "outputs_hidden": false
        },
        "nteract": {
          "transient": {
            "deleting": false
          }
        }
      }
    }
  ],
  "metadata": {
    "kernel_info": {
      "name": "julia-1.4"
    },
    "language_info": {
      "file_extension": ".jl",
      "name": "julia",
      "mimetype": "application/julia",
      "version": "1.4.1"
    },
    "kernelspec": {
      "argv": [
        "C:\\Users\\Van Der Weerd\\AppData\\Local\\Programs\\Julia\\Julia-1.4.1\\bin\\julia.exe",
        "-i",
        "--startup-file=yes",
        "--color=yes",
        "--project=@.",
        "C:\\Users\\Van Der Weerd\\.julia\\packages\\IJulia\\DrVMH\\src\\kernel.jl",
        "{connection_file}"
      ],
      "display_name": "Julia 1.4.1",
      "env": {},
      "interrupt_mode": "message",
      "language": "julia",
      "name": "julia-1.4"
    },
    "nteract": {
      "version": "0.23.3"
    }
  },
  "nbformat": 4,
  "nbformat_minor": 0
}