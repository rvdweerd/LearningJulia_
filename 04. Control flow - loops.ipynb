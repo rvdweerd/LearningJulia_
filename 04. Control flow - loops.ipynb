{
  "cells": [
    {
      "cell_type": "code",
      "source": [
        "n=0\n",
        "while  n<10\n",
        "  n+=1;\n",
        "  println(n)\n",
        "end"
      ],
      "outputs": [
        {
          "output_type": "stream",
          "name": "stdout",
          "text": [
            "1\n",
            "2\n",
            "3\n",
            "4\n",
            "5\n",
            "6\n",
            "7\n",
            "8\n",
            "9\n",
            "10\n"
          ]
        }
      ],
      "execution_count": 6,
      "metadata": {
        "collapsed": true,
        "jupyter": {
          "source_hidden": false,
          "outputs_hidden": false
        },
        "nteract": {
          "transient": {
            "deleting": false
          }
        },
        "execution": {
          "iopub.status.busy": "2020-06-29T17:23:19.903Z",
          "iopub.execute_input": "2020-06-29T17:23:19.907Z",
          "iopub.status.idle": "2020-06-29T17:23:19.916Z"
        }
      }
    },
    {
      "cell_type": "code",
      "source": [
        "myFriends = [\"a\",\"b\",\"c\",\"d\"]\n",
        "i=1\n",
        "while i<=length(myFriends)\n",
        "  friend = myFriends[i];\n",
        "  println(\"Hi $friend, whassup\");\n",
        "  i+=1\n",
        "end"
      ],
      "outputs": [
        {
          "output_type": "stream",
          "name": "stdout",
          "text": [
            "Hi a, whassup\n",
            "Hi b, whassup\n",
            "Hi c, whassup\n",
            "Hi d, whassup\n"
          ]
        }
      ],
      "execution_count": 8,
      "metadata": {
        "collapsed": true,
        "jupyter": {
          "source_hidden": false,
          "outputs_hidden": false
        },
        "nteract": {
          "transient": {
            "deleting": false
          }
        },
        "execution": {
          "iopub.status.busy": "2020-06-29T17:24:49.370Z",
          "iopub.execute_input": "2020-06-29T17:24:49.373Z",
          "iopub.status.idle": "2020-06-29T17:24:49.464Z"
        }
      }
    },
    {
      "cell_type": "code",
      "source": [
        "for n in 1:10\n",
        "  println(n)\n",
        "end"
      ],
      "outputs": [
        {
          "output_type": "stream",
          "name": "stdout",
          "text": [
            "1\n",
            "2\n",
            "3\n",
            "4\n",
            "5\n",
            "6\n",
            "7\n",
            "8\n",
            "9\n",
            "10\n"
          ]
        }
      ],
      "execution_count": 9,
      "metadata": {
        "collapsed": true,
        "jupyter": {
          "source_hidden": false,
          "outputs_hidden": false
        },
        "nteract": {
          "transient": {
            "deleting": false
          }
        },
        "execution": {
          "iopub.status.busy": "2020-06-29T17:25:27.272Z",
          "iopub.execute_input": "2020-06-29T17:25:27.275Z",
          "iopub.status.idle": "2020-06-29T17:25:27.287Z"
        }
      }
    },
    {
      "cell_type": "code",
      "source": [
        "for n in myFriends\n",
        "  println(n)\n",
        "end"
      ],
      "outputs": [
        {
          "output_type": "stream",
          "name": "stdout",
          "text": [
            "a\n",
            "b\n",
            "c\n",
            "d\n"
          ]
        }
      ],
      "execution_count": 10,
      "metadata": {
        "collapsed": true,
        "jupyter": {
          "source_hidden": false,
          "outputs_hidden": false
        },
        "nteract": {
          "transient": {
            "deleting": false
          }
        },
        "execution": {
          "iopub.status.busy": "2020-06-29T17:26:09.797Z",
          "iopub.execute_input": "2020-06-29T17:26:09.806Z",
          "iopub.status.idle": "2020-06-29T17:26:09.815Z"
        }
      }
    },
    {
      "cell_type": "code",
      "source": [
        "for n = 1:10\n",
        "  println(n)\n",
        "end\n"
      ],
      "outputs": [
        {
          "output_type": "stream",
          "name": "stdout",
          "text": [
            "1\n",
            "2\n",
            "3\n",
            "4\n",
            "5\n",
            "6\n",
            "7\n",
            "8\n",
            "9\n",
            "10\n"
          ]
        }
      ],
      "execution_count": 12,
      "metadata": {
        "collapsed": true,
        "jupyter": {
          "source_hidden": false,
          "outputs_hidden": false
        },
        "nteract": {
          "transient": {
            "deleting": false
          }
        },
        "execution": {
          "iopub.status.busy": "2020-06-29T17:27:18.567Z",
          "iopub.execute_input": "2020-06-29T17:27:18.571Z",
          "iopub.status.idle": "2020-06-29T17:27:18.578Z"
        }
      }
    },
    {
      "cell_type": "code",
      "source": [
        "m,n =5, 5\n",
        "A=zeros(m,n)"
      ],
      "outputs": [
        {
          "output_type": "execute_result",
          "execution_count": 14,
          "data": {
            "text/plain": [
              "5×5 Array{Float64,2}:\n",
              " 0.0  0.0  0.0  0.0  0.0\n",
              " 0.0  0.0  0.0  0.0  0.0\n",
              " 0.0  0.0  0.0  0.0  0.0\n",
              " 0.0  0.0  0.0  0.0  0.0\n",
              " 0.0  0.0  0.0  0.0  0.0"
            ]
          },
          "metadata": {}
        }
      ],
      "execution_count": 14,
      "metadata": {
        "collapsed": true,
        "jupyter": {
          "source_hidden": false,
          "outputs_hidden": false
        },
        "nteract": {
          "transient": {
            "deleting": false
          }
        },
        "execution": {
          "iopub.status.busy": "2020-06-29T17:29:59.898Z",
          "iopub.execute_input": "2020-06-29T17:29:59.902Z",
          "iopub.status.idle": "2020-06-29T17:30:00.879Z"
        }
      }
    },
    {
      "cell_type": "code",
      "source": [
        "for i in 1:m\n",
        "  for j in 1:n\n",
        "    A[i,j]=i+j;\n",
        "  end\n",
        "end\n",
        "A"
      ],
      "outputs": [
        {
          "output_type": "execute_result",
          "execution_count": 17,
          "data": {
            "text/plain": [
              "5×5 Array{Float64,2}:\n",
              " 2.0  3.0  4.0  5.0   6.0\n",
              " 3.0  4.0  5.0  6.0   7.0\n",
              " 4.0  5.0  6.0  7.0   8.0\n",
              " 5.0  6.0  7.0  8.0   9.0\n",
              " 6.0  7.0  8.0  9.0  10.0"
            ]
          },
          "metadata": {}
        }
      ],
      "execution_count": 17,
      "metadata": {
        "collapsed": true,
        "jupyter": {
          "source_hidden": false,
          "outputs_hidden": false
        },
        "nteract": {
          "transient": {
            "deleting": false
          }
        },
        "execution": {
          "iopub.status.busy": "2020-06-29T17:30:53.440Z",
          "iopub.execute_input": "2020-06-29T17:30:53.445Z",
          "iopub.status.idle": "2020-06-29T17:30:53.453Z"
        }
      }
    },
    {
      "cell_type": "code",
      "source": [
        "B=zeros(m,n)\n",
        "for i in 1:m, j=1:n\n",
        "  B[i,j]=i+j\n",
        "end\n",
        "B"
      ],
      "outputs": [
        {
          "output_type": "execute_result",
          "execution_count": 21,
          "data": {
            "text/plain": [
              "5×5 Array{Float64,2}:\n",
              " 2.0  3.0  4.0  5.0   6.0\n",
              " 3.0  4.0  5.0  6.0   7.0\n",
              " 4.0  5.0  6.0  7.0   8.0\n",
              " 5.0  6.0  7.0  8.0   9.0\n",
              " 6.0  7.0  8.0  9.0  10.0"
            ]
          },
          "metadata": {}
        }
      ],
      "execution_count": 21,
      "metadata": {
        "collapsed": true,
        "jupyter": {
          "source_hidden": false,
          "outputs_hidden": false
        },
        "nteract": {
          "transient": {
            "deleting": false
          }
        },
        "execution": {
          "iopub.status.busy": "2020-06-29T17:32:39.375Z",
          "iopub.execute_input": "2020-06-29T17:32:39.379Z",
          "iopub.status.idle": "2020-06-29T17:32:39.390Z"
        }
      }
    },
    {
      "cell_type": "code",
      "source": [
        "for i in 1:m, j=1:n\n",
        "  C[i,j]=i+j\n",
        "end\n",
        "C"
      ],
      "outputs": [
        {
          "output_type": "error",
          "ename": "UndefVarError",
          "evalue": "UndefVarError: C not defined",
          "traceback": [
            "UndefVarError: C not defined",
            "",
            "Stacktrace:",
            " [1] top-level scope at .\\In[22]:2"
          ]
        }
      ],
      "execution_count": 22,
      "metadata": {
        "collapsed": true,
        "jupyter": {
          "source_hidden": false,
          "outputs_hidden": false
        },
        "nteract": {
          "transient": {
            "deleting": false
          }
        },
        "execution": {
          "iopub.status.busy": "2020-06-29T18:22:45.119Z",
          "iopub.execute_input": "2020-06-29T18:22:45.124Z",
          "iopub.status.idle": "2020-06-29T18:22:45.889Z"
        }
      }
    },
    {
      "cell_type": "code",
      "source": [
        "C = [i+j for i in 1:m, j in 1:n]"
      ],
      "outputs": [
        {
          "output_type": "execute_result",
          "execution_count": 24,
          "data": {
            "text/plain": [
              "5×5 Array{Int64,2}:\n",
              " 2  3  4  5   6\n",
              " 3  4  5  6   7\n",
              " 4  5  6  7   8\n",
              " 5  6  7  8   9\n",
              " 6  7  8  9  10"
            ]
          },
          "metadata": {}
        }
      ],
      "execution_count": 24,
      "metadata": {
        "collapsed": true,
        "jupyter": {
          "source_hidden": false,
          "outputs_hidden": false
        },
        "nteract": {
          "transient": {
            "deleting": false
          }
        },
        "execution": {
          "iopub.status.busy": "2020-06-29T18:23:32.318Z",
          "iopub.execute_input": "2020-06-29T18:23:32.323Z",
          "iopub.status.idle": "2020-06-29T18:23:32.342Z"
        }
      }
    },
    {
      "cell_type": "code",
      "source": [
        "for n in 1:5\n",
        "  A=[i+j for i in 1:n, j in 1:n]\n",
        "  display(A)\n",
        "end"
      ],
      "outputs": [
        {
          "output_type": "display_data",
          "data": {
            "text/plain": [
              "1×1 Array{Int64,2}:\n",
              " 2"
            ]
          },
          "metadata": {}
        },
        {
          "output_type": "display_data",
          "data": {
            "text/plain": [
              "2×2 Array{Int64,2}:\n",
              " 2  3\n",
              " 3  4"
            ]
          },
          "metadata": {}
        },
        {
          "output_type": "display_data",
          "data": {
            "text/plain": [
              "3×3 Array{Int64,2}:\n",
              " 2  3  4\n",
              " 3  4  5\n",
              " 4  5  6"
            ]
          },
          "metadata": {}
        },
        {
          "output_type": "display_data",
          "data": {
            "text/plain": [
              "4×4 Array{Int64,2}:\n",
              " 2  3  4  5\n",
              " 3  4  5  6\n",
              " 4  5  6  7\n",
              " 5  6  7  8"
            ]
          },
          "metadata": {}
        },
        {
          "output_type": "display_data",
          "data": {
            "text/plain": [
              "5×5 Array{Int64,2}:\n",
              " 2  3  4  5   6\n",
              " 3  4  5  6   7\n",
              " 4  5  6  7   8\n",
              " 5  6  7  8   9\n",
              " 6  7  8  9  10"
            ]
          },
          "metadata": {}
        }
      ],
      "execution_count": 26,
      "metadata": {
        "collapsed": true,
        "jupyter": {
          "source_hidden": false,
          "outputs_hidden": false
        },
        "nteract": {
          "transient": {
            "deleting": false
          }
        },
        "execution": {
          "iopub.status.busy": "2020-06-29T18:25:25.072Z",
          "iopub.execute_input": "2020-06-29T18:25:25.077Z",
          "iopub.status.idle": "2020-06-29T18:25:25.800Z"
        }
      }
    },
    {
      "cell_type": "code",
      "source": [
        "D = fill(0,(3,2))"
      ],
      "outputs": [
        {
          "output_type": "execute_result",
          "execution_count": 29,
          "data": {
            "text/plain": [
              "3×2 Array{Int64,2}:\n",
              " 0  0\n",
              " 0  0\n",
              " 0  0"
            ]
          },
          "metadata": {}
        }
      ],
      "execution_count": 29,
      "metadata": {
        "collapsed": true,
        "jupyter": {
          "source_hidden": false,
          "outputs_hidden": false
        },
        "nteract": {
          "transient": {
            "deleting": false
          }
        },
        "execution": {
          "iopub.status.busy": "2020-06-29T18:26:56.290Z",
          "iopub.execute_input": "2020-06-29T18:26:56.296Z",
          "iopub.status.idle": "2020-06-29T18:26:56.306Z"
        }
      }
    },
    {
      "cell_type": "code",
      "source": [
        "squares = Dict(1 => 1)"
      ],
      "outputs": [
        {
          "output_type": "execute_result",
          "execution_count": 45,
          "data": {
            "text/plain": [
              "Dict{Int64,Int64} with 1 entry:\n",
              "  1 => 1"
            ]
          },
          "metadata": {}
        }
      ],
      "execution_count": 45,
      "metadata": {
        "collapsed": true,
        "jupyter": {
          "source_hidden": false,
          "outputs_hidden": false
        },
        "nteract": {
          "transient": {
            "deleting": false
          }
        },
        "execution": {
          "iopub.status.busy": "2020-06-29T18:37:21.710Z",
          "iopub.execute_input": "2020-06-29T18:37:21.716Z",
          "iopub.status.idle": "2020-06-29T18:37:21.729Z"
        }
      }
    },
    {
      "cell_type": "code",
      "source": [
        "for i in 1:100\n",
        "  squares[i]=i*i\n",
        "end"
      ],
      "outputs": [],
      "execution_count": 46,
      "metadata": {
        "collapsed": true,
        "jupyter": {
          "source_hidden": false,
          "outputs_hidden": false
        },
        "nteract": {
          "transient": {
            "deleting": false
          }
        },
        "execution": {
          "iopub.status.busy": "2020-06-29T18:37:22.518Z",
          "iopub.execute_input": "2020-06-29T18:37:22.527Z",
          "iopub.status.idle": "2020-06-29T18:37:22.537Z"
        }
      }
    },
    {
      "cell_type": "code",
      "source": [
        "@assert squares[10] == 100"
      ],
      "outputs": [],
      "execution_count": 47,
      "metadata": {
        "collapsed": true,
        "jupyter": {
          "source_hidden": false,
          "outputs_hidden": false
        },
        "nteract": {
          "transient": {
            "deleting": false
          }
        },
        "execution": {
          "iopub.status.busy": "2020-06-29T18:37:23.142Z",
          "iopub.execute_input": "2020-06-29T18:37:23.149Z",
          "iopub.status.idle": "2020-06-29T18:37:23.162Z"
        }
      }
    },
    {
      "cell_type": "code",
      "source": [
        "squares_arr = [i*i for i in 1:100]"
      ],
      "outputs": [
        {
          "output_type": "execute_result",
          "execution_count": 59,
          "data": {
            "text/plain": [
              "100-element Array{Int64,1}:\n",
              "     1\n",
              "     4\n",
              "     9\n",
              "    16\n",
              "    25\n",
              "    36\n",
              "    49\n",
              "    64\n",
              "    81\n",
              "   100\n",
              "   121\n",
              "   144\n",
              "   169\n",
              "     ⋮\n",
              "  7921\n",
              "  8100\n",
              "  8281\n",
              "  8464\n",
              "  8649\n",
              "  8836\n",
              "  9025\n",
              "  9216\n",
              "  9409\n",
              "  9604\n",
              "  9801\n",
              " 10000"
            ]
          },
          "metadata": {}
        }
      ],
      "execution_count": 59,
      "metadata": {
        "collapsed": true,
        "jupyter": {
          "source_hidden": false,
          "outputs_hidden": false
        },
        "nteract": {
          "transient": {
            "deleting": false
          }
        },
        "execution": {
          "iopub.status.busy": "2020-06-29T18:42:03.674Z",
          "iopub.execute_input": "2020-06-29T18:42:03.685Z",
          "iopub.status.idle": "2020-06-29T18:42:04.387Z"
        }
      }
    },
    {
      "cell_type": "code",
      "source": [
        "@assert sum(squares_arr) == 338350"
      ],
      "outputs": [],
      "execution_count": 60,
      "metadata": {
        "collapsed": true,
        "jupyter": {
          "source_hidden": false,
          "outputs_hidden": false
        },
        "nteract": {
          "transient": {
            "deleting": false
          }
        },
        "execution": {
          "iopub.status.busy": "2020-06-29T18:42:48.812Z",
          "iopub.execute_input": "2020-06-29T18:42:48.819Z",
          "iopub.status.idle": "2020-06-29T18:42:48.829Z"
        }
      }
    },
    {
      "cell_type": "code",
      "source": [
        "m=3\n",
        "n=7\n",
        "DP=ones(m,n)"
      ],
      "outputs": [
        {
          "output_type": "execute_result",
          "execution_count": 76,
          "data": {
            "text/plain": [
              "3×7 Array{Float64,2}:\n",
              " 1.0  1.0  1.0  1.0  1.0  1.0  1.0\n",
              " 1.0  1.0  1.0  1.0  1.0  1.0  1.0\n",
              " 1.0  1.0  1.0  1.0  1.0  1.0  1.0"
            ]
          },
          "metadata": {}
        }
      ],
      "execution_count": 76,
      "metadata": {
        "collapsed": true,
        "jupyter": {
          "source_hidden": false,
          "outputs_hidden": false
        },
        "nteract": {
          "transient": {
            "deleting": false
          }
        },
        "execution": {
          "iopub.status.busy": "2020-06-29T18:46:07.429Z",
          "iopub.execute_input": "2020-06-29T18:46:07.436Z",
          "iopub.status.idle": "2020-06-29T18:46:07.451Z"
        }
      }
    },
    {
      "cell_type": "code",
      "source": [
        "for row in 2:m, col in 2:n\n",
        "  DP[row,col]=DP[row-1,col]+DP[row,col-1]\n",
        "end"
      ],
      "outputs": [],
      "execution_count": 77,
      "metadata": {
        "collapsed": true,
        "jupyter": {
          "source_hidden": false,
          "outputs_hidden": false
        },
        "nteract": {
          "transient": {
            "deleting": false
          }
        },
        "execution": {
          "iopub.status.busy": "2020-06-29T18:46:17.443Z",
          "iopub.execute_input": "2020-06-29T18:46:17.451Z",
          "iopub.status.idle": "2020-06-29T18:46:17.464Z"
        }
      }
    },
    {
      "cell_type": "code",
      "source": [
        "DP"
      ],
      "outputs": [
        {
          "output_type": "execute_result",
          "execution_count": 78,
          "data": {
            "text/plain": [
              "3×7 Array{Float64,2}:\n",
              " 1.0  1.0  1.0   1.0   1.0   1.0   1.0\n",
              " 1.0  2.0  3.0   4.0   5.0   6.0   7.0\n",
              " 1.0  3.0  6.0  10.0  15.0  21.0  28.0"
            ]
          },
          "metadata": {}
        }
      ],
      "execution_count": 78,
      "metadata": {
        "collapsed": true,
        "jupyter": {
          "source_hidden": false,
          "outputs_hidden": false
        },
        "nteract": {
          "transient": {
            "deleting": false
          }
        },
        "execution": {
          "iopub.status.busy": "2020-06-29T18:46:18.056Z",
          "iopub.execute_input": "2020-06-29T18:46:18.062Z",
          "iopub.status.idle": "2020-06-29T18:46:18.075Z"
        }
      }
    },
    {
      "cell_type": "code",
      "source": [
        "sq = Dict(i => i*i for i in 1:10)"
      ],
      "outputs": [
        {
          "output_type": "execute_result",
          "execution_count": 79,
          "data": {
            "text/plain": [
              "Dict{Int64,Int64} with 10 entries:\n",
              "  7  => 49\n",
              "  4  => 16\n",
              "  9  => 81\n",
              "  10 => 100\n",
              "  2  => 4\n",
              "  3  => 9\n",
              "  5  => 25\n",
              "  8  => 64\n",
              "  6  => 36\n",
              "  1  => 1"
            ]
          },
          "metadata": {}
        }
      ],
      "execution_count": 79,
      "metadata": {
        "collapsed": true,
        "jupyter": {
          "source_hidden": false,
          "outputs_hidden": false
        },
        "nteract": {
          "transient": {
            "deleting": false
          }
        },
        "execution": {
          "iopub.status.busy": "2020-06-29T18:47:35.261Z",
          "iopub.execute_input": "2020-06-29T18:47:35.266Z",
          "iopub.status.idle": "2020-06-29T18:47:35.281Z"
        }
      }
    },
    {
      "cell_type": "code",
      "source": [],
      "outputs": [],
      "execution_count": null,
      "metadata": {
        "collapsed": true,
        "jupyter": {
          "source_hidden": false,
          "outputs_hidden": false
        },
        "nteract": {
          "transient": {
            "deleting": false
          }
        }
      }
    }
  ],
  "metadata": {
    "kernel_info": {
      "name": "julia-1.4"
    },
    "language_info": {
      "file_extension": ".jl",
      "name": "julia",
      "mimetype": "application/julia",
      "version": "1.4.1"
    },
    "kernelspec": {
      "argv": [
        "C:\\Users\\Van Der Weerd\\AppData\\Local\\Programs\\Julia\\Julia-1.4.1\\bin\\julia.exe",
        "-i",
        "--startup-file=yes",
        "--color=yes",
        "--project=@.",
        "C:\\Users\\Van Der Weerd\\.julia\\packages\\IJulia\\DrVMH\\src\\kernel.jl",
        "{connection_file}"
      ],
      "display_name": "Julia 1.4.1",
      "env": {},
      "interrupt_mode": "message",
      "language": "julia",
      "name": "julia-1.4"
    },
    "nteract": {
      "version": "0.23.3"
    }
  },
  "nbformat": 4,
  "nbformat_minor": 0
}