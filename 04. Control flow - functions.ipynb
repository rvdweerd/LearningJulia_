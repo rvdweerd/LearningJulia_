{
  "cells": [
    {
      "cell_type": "code",
      "source": [
        "function sayhi(name)\n",
        "  println(\"Hi $name, it's great to see you!\")\n",
        "end"
      ],
      "outputs": [
        {
          "output_type": "execute_result",
          "execution_count": 1,
          "data": {
            "text/plain": [
              "sayhi (generic function with 1 method)"
            ]
          },
          "metadata": {}
        }
      ],
      "execution_count": 1,
      "metadata": {
        "collapsed": true,
        "jupyter": {
          "source_hidden": false,
          "outputs_hidden": false
        },
        "nteract": {
          "transient": {
            "deleting": false
          }
        },
        "execution": {
          "iopub.status.busy": "2020-06-29T19:48:47.409Z",
          "iopub.execute_input": "2020-06-29T19:48:48.737Z",
          "iopub.status.idle": "2020-06-29T19:48:50.252Z"
        }
      }
    },
    {
      "cell_type": "code",
      "source": [
        "function f(x)\n",
        "  x^2\n",
        "end"
      ],
      "outputs": [
        {
          "output_type": "execute_result",
          "execution_count": 29,
          "data": {
            "text/plain": [
              "f (generic function with 1 method)"
            ]
          },
          "metadata": {}
        }
      ],
      "execution_count": 29,
      "metadata": {
        "collapsed": true,
        "jupyter": {
          "source_hidden": false,
          "outputs_hidden": false
        },
        "nteract": {
          "transient": {
            "deleting": false
          }
        },
        "execution": {
          "iopub.status.busy": "2020-06-29T20:00:47.647Z",
          "iopub.execute_input": "2020-06-29T20:00:47.654Z",
          "iopub.status.idle": "2020-06-29T20:00:47.668Z"
        }
      }
    },
    {
      "cell_type": "code",
      "source": [
        "sayhi(\"Rog\")"
      ],
      "outputs": [
        {
          "output_type": "stream",
          "name": "stdout",
          "text": [
            "Hi Rog, it's great to see you!\n"
          ]
        }
      ],
      "execution_count": 3,
      "metadata": {
        "collapsed": true,
        "jupyter": {
          "source_hidden": false,
          "outputs_hidden": false
        },
        "nteract": {
          "transient": {
            "deleting": false
          }
        },
        "execution": {
          "iopub.status.busy": "2020-06-29T19:49:13.241Z",
          "iopub.execute_input": "2020-06-29T19:49:13.251Z",
          "iopub.status.idle": "2020-06-29T19:49:13.383Z"
        }
      }
    },
    {
      "cell_type": "code",
      "source": [
        "f(34)"
      ],
      "outputs": [
        {
          "output_type": "execute_result",
          "execution_count": 4,
          "data": {
            "text/plain": [
              "1156"
            ]
          },
          "metadata": {}
        }
      ],
      "execution_count": 4,
      "metadata": {
        "collapsed": true,
        "jupyter": {
          "source_hidden": false,
          "outputs_hidden": false
        },
        "nteract": {
          "transient": {
            "deleting": false
          }
        },
        "execution": {
          "iopub.status.busy": "2020-06-29T19:49:17.174Z",
          "iopub.execute_input": "2020-06-29T19:49:17.185Z",
          "iopub.status.idle": "2020-06-29T19:49:17.411Z"
        }
      }
    },
    {
      "cell_type": "code",
      "source": [
        "sayhi2(name) = println(\"Hi $name too\")"
      ],
      "outputs": [
        {
          "output_type": "execute_result",
          "execution_count": 5,
          "data": {
            "text/plain": [
              "sayhi2 (generic function with 1 method)"
            ]
          },
          "metadata": {}
        }
      ],
      "execution_count": 5,
      "metadata": {
        "collapsed": true,
        "jupyter": {
          "source_hidden": false,
          "outputs_hidden": false
        },
        "nteract": {
          "transient": {
            "deleting": false
          }
        },
        "execution": {
          "iopub.status.busy": "2020-06-29T19:49:45.213Z",
          "iopub.execute_input": "2020-06-29T19:49:45.220Z",
          "iopub.status.idle": "2020-06-29T19:49:45.343Z"
        }
      }
    },
    {
      "cell_type": "code",
      "source": [
        "sayhi2(\"T\")"
      ],
      "outputs": [
        {
          "output_type": "stream",
          "name": "stdout",
          "text": [
            "Hi T too\n"
          ]
        }
      ],
      "execution_count": 6,
      "metadata": {
        "collapsed": true,
        "jupyter": {
          "source_hidden": false,
          "outputs_hidden": false
        },
        "nteract": {
          "transient": {
            "deleting": false
          }
        },
        "execution": {
          "iopub.status.busy": "2020-06-29T19:49:53.046Z",
          "iopub.execute_input": "2020-06-29T19:49:53.052Z",
          "iopub.status.idle": "2020-06-29T19:49:53.062Z"
        }
      }
    },
    {
      "cell_type": "code",
      "source": [
        "sayhi3 = name -> println(\"Hi $name, this is a lambda function\")"
      ],
      "outputs": [
        {
          "output_type": "execute_result",
          "execution_count": 7,
          "data": {
            "text/plain": [
              "#3 (generic function with 1 method)"
            ]
          },
          "metadata": {}
        }
      ],
      "execution_count": 7,
      "metadata": {
        "collapsed": true,
        "jupyter": {
          "source_hidden": false,
          "outputs_hidden": false
        },
        "nteract": {
          "transient": {
            "deleting": false
          }
        },
        "execution": {
          "iopub.status.busy": "2020-06-29T19:51:37.812Z",
          "iopub.execute_input": "2020-06-29T19:51:37.820Z",
          "iopub.status.idle": "2020-06-29T19:51:37.893Z"
        }
      }
    },
    {
      "cell_type": "code",
      "source": [
        "sayhi3(\"R\")"
      ],
      "outputs": [
        {
          "output_type": "stream",
          "name": "stdout",
          "text": [
            "Hi R, this is a lambda function\n"
          ]
        }
      ],
      "execution_count": 8,
      "metadata": {
        "collapsed": true,
        "jupyter": {
          "source_hidden": false,
          "outputs_hidden": false
        },
        "nteract": {
          "transient": {
            "deleting": false
          }
        },
        "execution": {
          "iopub.status.busy": "2020-06-29T19:51:48.595Z",
          "iopub.execute_input": "2020-06-29T19:51:48.600Z",
          "iopub.status.idle": "2020-06-29T19:51:48.613Z"
        }
      }
    },
    {
      "cell_type": "code",
      "source": [
        "arr = [sayhi2, sayhi3]"
      ],
      "outputs": [
        {
          "output_type": "execute_result",
          "execution_count": 9,
          "data": {
            "text/plain": [
              "2-element Array{Function,1}:\n",
              " sayhi2\n",
              " var\"#3#4\"()"
            ]
          },
          "metadata": {}
        }
      ],
      "execution_count": 9,
      "metadata": {
        "collapsed": true,
        "jupyter": {
          "source_hidden": false,
          "outputs_hidden": false
        },
        "nteract": {
          "transient": {
            "deleting": false
          }
        },
        "execution": {
          "iopub.status.busy": "2020-06-29T19:52:20.414Z",
          "iopub.execute_input": "2020-06-29T19:52:20.419Z",
          "iopub.status.idle": "2020-06-29T19:52:21.277Z"
        }
      }
    },
    {
      "cell_type": "code",
      "source": [
        "arr[2](\"a\")"
      ],
      "outputs": [
        {
          "output_type": "stream",
          "name": "stdout",
          "text": [
            "Hi a, this is a lambda function\n"
          ]
        }
      ],
      "execution_count": 10,
      "metadata": {
        "collapsed": true,
        "jupyter": {
          "source_hidden": false,
          "outputs_hidden": false
        },
        "nteract": {
          "transient": {
            "deleting": false
          }
        },
        "execution": {
          "iopub.status.busy": "2020-06-29T19:52:35.297Z",
          "iopub.execute_input": "2020-06-29T19:52:35.307Z",
          "iopub.status.idle": "2020-06-29T19:52:35.334Z"
        }
      }
    },
    {
      "cell_type": "code",
      "source": [
        "f3 = x->x^2"
      ],
      "outputs": [
        {
          "output_type": "execute_result",
          "execution_count": 11,
          "data": {
            "text/plain": [
              "#5 (generic function with 1 method)"
            ]
          },
          "metadata": {}
        }
      ],
      "execution_count": 11,
      "metadata": {
        "collapsed": true,
        "jupyter": {
          "source_hidden": false,
          "outputs_hidden": false
        },
        "nteract": {
          "transient": {
            "deleting": false
          }
        },
        "execution": {
          "iopub.status.busy": "2020-06-29T19:53:18.149Z",
          "iopub.execute_input": "2020-06-29T19:53:18.160Z",
          "iopub.status.idle": "2020-06-29T19:53:18.227Z"
        }
      }
    },
    {
      "cell_type": "code",
      "source": [
        "f3(10)"
      ],
      "outputs": [
        {
          "output_type": "execute_result",
          "execution_count": 12,
          "data": {
            "text/plain": [
              "100"
            ]
          },
          "metadata": {}
        }
      ],
      "execution_count": 12,
      "metadata": {
        "collapsed": true,
        "jupyter": {
          "source_hidden": false,
          "outputs_hidden": false
        },
        "nteract": {
          "transient": {
            "deleting": false
          }
        },
        "execution": {
          "iopub.status.busy": "2020-06-29T19:53:33.509Z",
          "iopub.execute_input": "2020-06-29T19:53:33.524Z",
          "iopub.status.idle": "2020-06-29T19:53:33.537Z"
        }
      }
    },
    {
      "cell_type": "code",
      "source": [
        "sayhi(123)"
      ],
      "outputs": [
        {
          "output_type": "stream",
          "name": "stdout",
          "text": [
            "Hi 123, it's great to see you!\n"
          ]
        }
      ],
      "execution_count": 13,
      "metadata": {
        "collapsed": true,
        "jupyter": {
          "source_hidden": false,
          "outputs_hidden": false
        },
        "nteract": {
          "transient": {
            "deleting": false
          }
        },
        "execution": {
          "iopub.status.busy": "2020-06-29T19:54:25.511Z",
          "iopub.execute_input": "2020-06-29T19:54:25.517Z",
          "iopub.status.idle": "2020-06-29T19:54:25.531Z"
        }
      }
    },
    {
      "cell_type": "code",
      "source": [
        "A=rand(3,3)"
      ],
      "outputs": [
        {
          "output_type": "execute_result",
          "execution_count": 14,
          "data": {
            "text/plain": [
              "3×3 Array{Float64,2}:\n",
              " 0.596089  0.7704     0.401433\n",
              " 0.876988  0.0673488  0.198679\n",
              " 0.322902  0.0852149  0.993764"
            ]
          },
          "metadata": {}
        }
      ],
      "execution_count": 14,
      "metadata": {
        "collapsed": true,
        "jupyter": {
          "source_hidden": false,
          "outputs_hidden": false
        },
        "nteract": {
          "transient": {
            "deleting": false
          }
        },
        "execution": {
          "iopub.status.busy": "2020-06-29T19:56:36.870Z",
          "iopub.execute_input": "2020-06-29T19:56:36.877Z",
          "iopub.status.idle": "2020-06-29T19:56:37.713Z"
        }
      }
    },
    {
      "cell_type": "code",
      "source": [
        "B=f(A)"
      ],
      "outputs": [
        {
          "output_type": "execute_result",
          "execution_count": 17,
          "data": {
            "text/plain": [
              "3×3 Array{Float64,2}:\n",
              " 1.16058   0.54532   0.791282\n",
              " 0.645981  0.697098  0.562873\n",
              " 0.588099  0.339186  1.13412"
            ]
          },
          "metadata": {}
        }
      ],
      "execution_count": 17,
      "metadata": {
        "collapsed": true,
        "jupyter": {
          "source_hidden": false,
          "outputs_hidden": false
        },
        "nteract": {
          "transient": {
            "deleting": false
          }
        },
        "execution": {
          "iopub.status.busy": "2020-06-29T19:57:25.615Z",
          "iopub.execute_input": "2020-06-29T19:57:25.622Z",
          "iopub.status.idle": "2020-06-29T19:57:25.636Z"
        }
      }
    },
    {
      "cell_type": "code",
      "source": [
        "C=B*inv(A)"
      ],
      "outputs": [
        {
          "output_type": "execute_result",
          "execution_count": 23,
          "data": {
            "text/plain": [
              "3×3 Array{Float64,2}:\n",
              " 0.596089  0.7704     0.401433\n",
              " 0.876988  0.0673488  0.198679\n",
              " 0.322902  0.0852149  0.993764"
            ]
          },
          "metadata": {}
        }
      ],
      "execution_count": 23,
      "metadata": {
        "collapsed": true,
        "jupyter": {
          "source_hidden": false,
          "outputs_hidden": false
        },
        "nteract": {
          "transient": {
            "deleting": false
          }
        },
        "execution": {
          "iopub.status.busy": "2020-06-29T19:58:38.341Z",
          "iopub.execute_input": "2020-06-29T19:58:38.348Z",
          "iopub.status.idle": "2020-06-29T19:58:38.362Z"
        }
      }
    },
    {
      "cell_type": "code",
      "source": [
        "a=rand(3)"
      ],
      "outputs": [
        {
          "output_type": "execute_result",
          "execution_count": 27,
          "data": {
            "text/plain": [
              "3-element Array{Float64,1}:\n",
              " 0.3427507943617827\n",
              " 0.6889716443054306\n",
              " 0.43530583610672235"
            ]
          },
          "metadata": {}
        }
      ],
      "execution_count": 27,
      "metadata": {
        "collapsed": true,
        "jupyter": {
          "source_hidden": false,
          "outputs_hidden": false
        },
        "nteract": {
          "transient": {
            "deleting": false
          }
        },
        "execution": {
          "iopub.status.busy": "2020-06-29T20:00:25.134Z",
          "iopub.execute_input": "2020-06-29T20:00:25.146Z",
          "iopub.status.idle": "2020-06-29T20:00:26.198Z"
        }
      }
    },
    {
      "cell_type": "code",
      "source": [
        "f(a)"
      ],
      "outputs": [
        {
          "output_type": "error",
          "ename": "MethodError",
          "evalue": "MethodError: no method matching ^(::Array{Float64,1}, ::Int64)\nClosest candidates are:\n  ^(!Matched::Float16, ::Integer) at math.jl:885\n  ^(!Matched::Regex, ::Integer) at regex.jl:712\n  ^(!Matched::Missing, ::Integer) at missing.jl:155\n  ...",
          "traceback": [
            "MethodError: no method matching ^(::Array{Float64,1}, ::Int64)\nClosest candidates are:\n  ^(!Matched::Float16, ::Integer) at math.jl:885\n  ^(!Matched::Regex, ::Integer) at regex.jl:712\n  ^(!Matched::Missing, ::Integer) at missing.jl:155\n  ...",
            "",
            "Stacktrace:",
            " [1] macro expansion at .\\none:0 [inlined]",
            " [2] literal_pow at .\\none:0 [inlined]",
            " [3] f(::Array{Float64,1}) at .\\In[29]:2",
            " [4] top-level scope at In[30]:1"
          ]
        }
      ],
      "execution_count": 30,
      "metadata": {
        "collapsed": true,
        "jupyter": {
          "source_hidden": false,
          "outputs_hidden": false
        },
        "nteract": {
          "transient": {
            "deleting": false
          }
        },
        "execution": {
          "iopub.status.busy": "2020-06-29T20:00:50.953Z",
          "iopub.execute_input": "2020-06-29T20:00:50.961Z",
          "iopub.status.idle": "2020-06-29T20:00:50.974Z"
        }
      }
    },
    {
      "cell_type": "code",
      "source": [
        "v=[3,5,2]"
      ],
      "outputs": [
        {
          "output_type": "execute_result",
          "execution_count": 31,
          "data": {
            "text/plain": [
              "3-element Array{Int64,1}:\n",
              " 3\n",
              " 5\n",
              " 2"
            ]
          },
          "metadata": {}
        }
      ],
      "execution_count": 31,
      "metadata": {
        "collapsed": true,
        "jupyter": {
          "source_hidden": false,
          "outputs_hidden": false
        },
        "nteract": {
          "transient": {
            "deleting": false
          }
        },
        "execution": {
          "iopub.status.busy": "2020-06-29T20:01:41.050Z",
          "iopub.execute_input": "2020-06-29T20:01:41.061Z",
          "iopub.status.idle": "2020-06-29T20:01:41.797Z"
        }
      }
    },
    {
      "cell_type": "code",
      "source": [
        "sort(v)"
      ],
      "outputs": [
        {
          "output_type": "execute_result",
          "execution_count": 32,
          "data": {
            "text/plain": [
              "3-element Array{Int64,1}:\n",
              " 2\n",
              " 3\n",
              " 5"
            ]
          },
          "metadata": {}
        }
      ],
      "execution_count": 32,
      "metadata": {
        "collapsed": true,
        "jupyter": {
          "source_hidden": false,
          "outputs_hidden": false
        },
        "nteract": {
          "transient": {
            "deleting": false
          }
        },
        "execution": {
          "iopub.status.busy": "2020-06-29T20:01:47.234Z",
          "iopub.execute_input": "2020-06-29T20:01:47.242Z",
          "iopub.status.idle": "2020-06-29T20:01:47.257Z"
        }
      }
    },
    {
      "cell_type": "code",
      "source": [
        "v"
      ],
      "outputs": [
        {
          "output_type": "execute_result",
          "execution_count": 33,
          "data": {
            "text/plain": [
              "3-element Array{Int64,1}:\n",
              " 3\n",
              " 5\n",
              " 2"
            ]
          },
          "metadata": {}
        }
      ],
      "execution_count": 33,
      "metadata": {
        "collapsed": true,
        "jupyter": {
          "source_hidden": false,
          "outputs_hidden": false
        },
        "nteract": {
          "transient": {
            "deleting": false
          }
        },
        "execution": {
          "iopub.status.busy": "2020-06-29T20:01:50.904Z",
          "iopub.execute_input": "2020-06-29T20:01:50.912Z",
          "iopub.status.idle": "2020-06-29T20:01:50.933Z"
        }
      }
    },
    {
      "cell_type": "code",
      "source": [
        "sort!(v)"
      ],
      "outputs": [
        {
          "output_type": "execute_result",
          "execution_count": 34,
          "data": {
            "text/plain": [
              "3-element Array{Int64,1}:\n",
              " 2\n",
              " 3\n",
              " 5"
            ]
          },
          "metadata": {}
        }
      ],
      "execution_count": 34,
      "metadata": {
        "collapsed": true,
        "jupyter": {
          "source_hidden": false,
          "outputs_hidden": false
        },
        "nteract": {
          "transient": {
            "deleting": false
          }
        },
        "execution": {
          "iopub.status.busy": "2020-06-29T20:02:00.681Z",
          "iopub.execute_input": "2020-06-29T20:02:00.689Z",
          "iopub.status.idle": "2020-06-29T20:02:00.707Z"
        }
      }
    },
    {
      "cell_type": "code",
      "source": [
        "v"
      ],
      "outputs": [
        {
          "output_type": "execute_result",
          "execution_count": 35,
          "data": {
            "text/plain": [
              "3-element Array{Int64,1}:\n",
              " 2\n",
              " 3\n",
              " 5"
            ]
          },
          "metadata": {}
        }
      ],
      "execution_count": 35,
      "metadata": {
        "collapsed": true,
        "jupyter": {
          "source_hidden": false,
          "outputs_hidden": false
        },
        "nteract": {
          "transient": {
            "deleting": false
          }
        },
        "execution": {
          "iopub.status.busy": "2020-06-29T20:02:02.733Z",
          "iopub.execute_input": "2020-06-29T20:02:02.741Z",
          "iopub.status.idle": "2020-06-29T20:02:02.763Z"
        }
      }
    },
    {
      "cell_type": "code",
      "source": [
        "A=[i+3*j for j in 0:2, i in 1:3]"
      ],
      "outputs": [
        {
          "output_type": "execute_result",
          "execution_count": 47,
          "data": {
            "text/plain": [
              "3×3 Array{Int64,2}:\n",
              " 1  2  3\n",
              " 4  5  6\n",
              " 7  8  9"
            ]
          },
          "metadata": {}
        }
      ],
      "execution_count": 47,
      "metadata": {
        "collapsed": true,
        "jupyter": {
          "source_hidden": false,
          "outputs_hidden": false
        },
        "nteract": {
          "transient": {
            "deleting": false
          }
        },
        "execution": {
          "iopub.status.busy": "2020-06-29T20:07:57.711Z",
          "iopub.execute_input": "2020-06-29T20:07:57.720Z",
          "iopub.status.idle": "2020-06-29T20:07:57.737Z"
        }
      }
    },
    {
      "cell_type": "code",
      "source": [
        "f(A)"
      ],
      "outputs": [
        {
          "output_type": "execute_result",
          "execution_count": 48,
          "data": {
            "text/plain": [
              "3×3 Array{Int64,2}:\n",
              "  30   36   42\n",
              "  66   81   96\n",
              " 102  126  150"
            ]
          },
          "metadata": {}
        }
      ],
      "execution_count": 48,
      "metadata": {
        "collapsed": true,
        "jupyter": {
          "source_hidden": false,
          "outputs_hidden": false
        },
        "nteract": {
          "transient": {
            "deleting": false
          }
        },
        "execution": {
          "iopub.status.busy": "2020-06-29T20:07:59.252Z",
          "iopub.execute_input": "2020-06-29T20:07:59.260Z",
          "iopub.status.idle": "2020-06-29T20:07:59.277Z"
        }
      }
    },
    {
      "cell_type": "code",
      "source": [
        "f.(A)"
      ],
      "outputs": [
        {
          "output_type": "execute_result",
          "execution_count": 49,
          "data": {
            "text/plain": [
              "3×3 Array{Int64,2}:\n",
              "  1   4   9\n",
              " 16  25  36\n",
              " 49  64  81"
            ]
          },
          "metadata": {}
        }
      ],
      "execution_count": 49,
      "metadata": {
        "collapsed": true,
        "jupyter": {
          "source_hidden": false,
          "outputs_hidden": false
        },
        "nteract": {
          "transient": {
            "deleting": false
          }
        },
        "execution": {
          "iopub.status.busy": "2020-06-29T20:07:59.735Z",
          "iopub.execute_input": "2020-06-29T20:07:59.743Z",
          "iopub.status.idle": "2020-06-29T20:07:59.761Z"
        }
      }
    },
    {
      "cell_type": "code",
      "source": [
        "f.(v)"
      ],
      "outputs": [
        {
          "output_type": "execute_result",
          "execution_count": 56,
          "data": {
            "text/plain": [
              "3-element Array{Int64,1}:\n",
              "  4\n",
              "  9\n",
              " 25"
            ]
          },
          "metadata": {}
        }
      ],
      "execution_count": 56,
      "metadata": {
        "collapsed": true,
        "jupyter": {
          "source_hidden": false,
          "outputs_hidden": false
        },
        "nteract": {
          "transient": {
            "deleting": false
          }
        },
        "execution": {
          "iopub.status.busy": "2020-06-29T20:10:00.663Z",
          "iopub.execute_input": "2020-06-29T20:10:00.674Z",
          "iopub.status.idle": "2020-06-29T20:10:00.695Z"
        }
      }
    },
    {
      "cell_type": "code",
      "source": [
        "A"
      ],
      "outputs": [
        {
          "output_type": "execute_result",
          "execution_count": 57,
          "data": {
            "text/plain": [
              "3×3 Array{Int64,2}:\n",
              " 1  2  3\n",
              " 4  5  6\n",
              " 7  8  9"
            ]
          },
          "metadata": {}
        }
      ],
      "execution_count": 57,
      "metadata": {
        "collapsed": true,
        "jupyter": {
          "source_hidden": false,
          "outputs_hidden": false
        },
        "nteract": {
          "transient": {
            "deleting": false
          }
        },
        "execution": {
          "iopub.status.busy": "2020-06-29T20:12:23.670Z",
          "iopub.execute_input": "2020-06-29T20:12:23.680Z",
          "iopub.status.idle": "2020-06-29T20:12:23.698Z"
        }
      }
    },
    {
      "cell_type": "code",
      "source": [
        "alter = x -> x+2*f(x)/x"
      ],
      "outputs": [
        {
          "output_type": "execute_result",
          "execution_count": 58,
          "data": {
            "text/plain": [
              "#19 (generic function with 1 method)"
            ]
          },
          "metadata": {}
        }
      ],
      "execution_count": 58,
      "metadata": {
        "collapsed": true,
        "jupyter": {
          "source_hidden": false,
          "outputs_hidden": false
        },
        "nteract": {
          "transient": {
            "deleting": false
          }
        },
        "execution": {
          "iopub.status.busy": "2020-06-29T20:12:58.917Z",
          "iopub.execute_input": "2020-06-29T20:12:58.930Z",
          "iopub.status.idle": "2020-06-29T20:12:58.987Z"
        }
      }
    },
    {
      "cell_type": "code",
      "source": [
        "broadcast(alter,A)"
      ],
      "outputs": [
        {
          "output_type": "execute_result",
          "execution_count": 60,
          "data": {
            "text/plain": [
              "3×3 Array{Float64,2}:\n",
              "  3.0   6.0   9.0\n",
              " 12.0  15.0  18.0\n",
              " 21.0  24.0  27.0"
            ]
          },
          "metadata": {}
        }
      ],
      "execution_count": 60,
      "metadata": {
        "collapsed": true,
        "jupyter": {
          "source_hidden": false,
          "outputs_hidden": false
        },
        "nteract": {
          "transient": {
            "deleting": false
          }
        },
        "execution": {
          "iopub.status.busy": "2020-06-29T20:13:29.355Z",
          "iopub.execute_input": "2020-06-29T20:13:29.365Z",
          "iopub.status.idle": "2020-06-29T20:13:29.404Z"
        }
      }
    },
    {
      "cell_type": "code",
      "source": [
        "alter.(A)"
      ],
      "outputs": [
        {
          "output_type": "execute_result",
          "execution_count": 61,
          "data": {
            "text/plain": [
              "3×3 Array{Float64,2}:\n",
              "  3.0   6.0   9.0\n",
              " 12.0  15.0  18.0\n",
              " 21.0  24.0  27.0"
            ]
          },
          "metadata": {}
        }
      ],
      "execution_count": 61,
      "metadata": {
        "collapsed": true,
        "jupyter": {
          "source_hidden": false,
          "outputs_hidden": false
        },
        "nteract": {
          "transient": {
            "deleting": false
          }
        },
        "execution": {
          "iopub.status.busy": "2020-06-29T20:13:43.273Z",
          "iopub.execute_input": "2020-06-29T20:13:43.284Z",
          "iopub.status.idle": "2020-06-29T20:13:43.306Z"
        }
      }
    },
    {
      "cell_type": "code",
      "source": [
        "A .+ 2 .* f.(A) ./ A"
      ],
      "outputs": [
        {
          "output_type": "execute_result",
          "execution_count": 63,
          "data": {
            "text/plain": [
              "3×3 Array{Float64,2}:\n",
              "  3.0   6.0   9.0\n",
              " 12.0  15.0  18.0\n",
              " 21.0  24.0  27.0"
            ]
          },
          "metadata": {}
        }
      ],
      "execution_count": 63,
      "metadata": {
        "collapsed": true,
        "jupyter": {
          "source_hidden": false,
          "outputs_hidden": false
        },
        "nteract": {
          "transient": {
            "deleting": false
          }
        },
        "execution": {
          "iopub.status.busy": "2020-06-29T20:14:33.201Z",
          "iopub.execute_input": "2020-06-29T20:14:33.215Z",
          "iopub.status.idle": "2020-06-29T20:14:33.332Z"
        }
      }
    },
    {
      "cell_type": "code",
      "source": [
        "add_one(x) = x+1"
      ],
      "outputs": [
        {
          "output_type": "execute_result",
          "execution_count": 68,
          "data": {
            "text/plain": [
              "add_one (generic function with 1 method)"
            ]
          },
          "metadata": {}
        }
      ],
      "execution_count": 68,
      "metadata": {
        "collapsed": true,
        "jupyter": {
          "source_hidden": false,
          "outputs_hidden": false
        },
        "nteract": {
          "transient": {
            "deleting": false
          }
        },
        "execution": {
          "iopub.status.busy": "2020-06-29T20:18:52.033Z",
          "iopub.execute_input": "2020-06-29T20:18:52.043Z",
          "iopub.status.idle": "2020-06-29T20:18:52.067Z"
        }
      }
    },
    {
      "cell_type": "code",
      "source": [
        "add_one(2)"
      ],
      "outputs": [
        {
          "output_type": "execute_result",
          "execution_count": 69,
          "data": {
            "text/plain": [
              "3"
            ]
          },
          "metadata": {}
        }
      ],
      "execution_count": 69,
      "metadata": {
        "collapsed": true,
        "jupyter": {
          "source_hidden": false,
          "outputs_hidden": false
        },
        "nteract": {
          "transient": {
            "deleting": false
          }
        },
        "execution": {
          "iopub.status.busy": "2020-06-29T20:18:52.912Z",
          "iopub.execute_input": "2020-06-29T20:18:52.922Z",
          "iopub.status.idle": "2020-06-29T20:18:52.941Z"
        }
      }
    },
    {
      "cell_type": "code",
      "source": [
        "A1= broadcast(add_one,A)"
      ],
      "outputs": [
        {
          "output_type": "execute_result",
          "execution_count": 70,
          "data": {
            "text/plain": [
              "3×3 Array{Int64,2}:\n",
              " 2  3   4\n",
              " 5  6   7\n",
              " 8  9  10"
            ]
          },
          "metadata": {}
        }
      ],
      "execution_count": 70,
      "metadata": {
        "collapsed": true,
        "jupyter": {
          "source_hidden": false,
          "outputs_hidden": false
        },
        "nteract": {
          "transient": {
            "deleting": false
          }
        },
        "execution": {
          "iopub.status.busy": "2020-06-29T20:19:14.653Z",
          "iopub.execute_input": "2020-06-29T20:19:14.664Z",
          "iopub.status.idle": "2020-06-29T20:19:14.684Z"
        }
      }
    },
    {
      "cell_type": "code",
      "source": [
        "A2=add_one.(A)"
      ],
      "outputs": [
        {
          "output_type": "execute_result",
          "execution_count": 71,
          "data": {
            "text/plain": [
              "3×3 Array{Int64,2}:\n",
              " 2  3   4\n",
              " 5  6   7\n",
              " 8  9  10"
            ]
          },
          "metadata": {}
        }
      ],
      "execution_count": 71,
      "metadata": {
        "collapsed": true,
        "jupyter": {
          "source_hidden": false,
          "outputs_hidden": false
        },
        "nteract": {
          "transient": {
            "deleting": false
          }
        },
        "execution": {
          "iopub.status.busy": "2020-06-29T20:19:35.066Z",
          "iopub.execute_input": "2020-06-29T20:19:35.076Z",
          "iopub.status.idle": "2020-06-29T20:19:35.097Z"
        }
      }
    },
    {
      "cell_type": "code",
      "source": [
        "A3 = map(x->x+1,A)"
      ],
      "outputs": [
        {
          "output_type": "execute_result",
          "execution_count": 72,
          "data": {
            "text/plain": [
              "3×3 Array{Int64,2}:\n",
              " 2  3   4\n",
              " 5  6   7\n",
              " 8  9  10"
            ]
          },
          "metadata": {}
        }
      ],
      "execution_count": 72,
      "metadata": {
        "collapsed": true,
        "jupyter": {
          "source_hidden": false,
          "outputs_hidden": false
        },
        "nteract": {
          "transient": {
            "deleting": false
          }
        },
        "execution": {
          "iopub.status.busy": "2020-06-29T20:20:16.988Z",
          "iopub.execute_input": "2020-06-29T20:20:17.002Z",
          "iopub.status.idle": "2020-06-29T20:20:17.030Z"
        }
      }
    },
    {
      "cell_type": "code",
      "source": [
        "A4 = A.+1"
      ],
      "outputs": [
        {
          "output_type": "execute_result",
          "execution_count": 73,
          "data": {
            "text/plain": [
              "3×3 Array{Int64,2}:\n",
              " 2  3   4\n",
              " 5  6   7\n",
              " 8  9  10"
            ]
          },
          "metadata": {}
        }
      ],
      "execution_count": 73,
      "metadata": {
        "collapsed": true,
        "jupyter": {
          "source_hidden": false,
          "outputs_hidden": false
        },
        "nteract": {
          "transient": {
            "deleting": false
          }
        },
        "execution": {
          "iopub.status.busy": "2020-06-29T20:26:28.310Z",
          "iopub.execute_input": "2020-06-29T20:26:28.321Z",
          "iopub.status.idle": "2020-06-29T20:26:28.343Z"
        }
      }
    },
    {
      "cell_type": "code",
      "source": [],
      "outputs": [],
      "execution_count": null,
      "metadata": {
        "collapsed": true,
        "jupyter": {
          "source_hidden": false,
          "outputs_hidden": false
        },
        "nteract": {
          "transient": {
            "deleting": false
          }
        }
      }
    }
  ],
  "metadata": {
    "kernel_info": {
      "name": "julia-1.4"
    },
    "language_info": {
      "file_extension": ".jl",
      "name": "julia",
      "mimetype": "application/julia",
      "version": "1.4.1"
    },
    "kernelspec": {
      "argv": [
        "C:\\Users\\Van Der Weerd\\AppData\\Local\\Programs\\Julia\\Julia-1.4.1\\bin\\julia.exe",
        "-i",
        "--startup-file=yes",
        "--color=yes",
        "--project=@.",
        "C:\\Users\\Van Der Weerd\\.julia\\packages\\IJulia\\DrVMH\\src\\kernel.jl",
        "{connection_file}"
      ],
      "display_name": "Julia 1.4.1",
      "env": {},
      "interrupt_mode": "message",
      "language": "julia",
      "name": "julia-1.4"
    },
    "nteract": {
      "version": "0.23.3"
    }
  },
  "nbformat": 4,
  "nbformat_minor": 0
}