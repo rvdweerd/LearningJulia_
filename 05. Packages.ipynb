{
  "cells": [
    {
      "cell_type": "code",
      "source": [
        "import Pkg;\n",
        "Pkg.add(\"Colors\")\n",
        "using Colors"
      ],
      "outputs": [
        {
          "output_type": "stream",
          "name": "stderr",
          "text": [
            "\u001b[32m\u001b[1m  Resolving\u001b[22m\u001b[39m package versions...\n",
            "\u001b[32m\u001b[1m   Updating\u001b[22m\u001b[39m `C:\\Users\\Van Der Weerd\\.julia\\environments\\v1.4\\Project.toml`\n",
            "\u001b[90m [no changes]\u001b[39m\n",
            "\u001b[32m\u001b[1m   Updating\u001b[22m\u001b[39m `C:\\Users\\Van Der Weerd\\.julia\\environments\\v1.4\\Manifest.toml`\n",
            "\u001b[90m [no changes]\u001b[39m\n"
          ]
        }
      ],
      "execution_count": 5,
      "metadata": {
        "collapsed": true,
        "jupyter": {
          "source_hidden": false,
          "outputs_hidden": false
        },
        "nteract": {
          "transient": {
            "deleting": false
          }
        },
        "execution": {
          "iopub.status.busy": "2020-06-29T20:55:23.148Z",
          "iopub.execute_input": "2020-06-29T20:55:23.155Z",
          "iopub.status.idle": "2020-06-29T20:55:29.593Z"
        }
      }
    },
    {
      "cell_type": "code",
      "source": [
        "palette = distinguishable_colors(100)"
      ],
      "outputs": [
        {
          "output_type": "execute_result",
          "execution_count": 13,
          "data": {
            "text/plain": [
              "100-element Array{RGB{N0f8},1} with eltype RGB{FixedPointNumbers.Normed{UInt8,8}}:\n",
              " RGB{N0f8}(0.0,0.0,0.0)\n",
              " RGB{N0f8}(1.0,1.0,0.455)\n",
              " RGB{N0f8}(1.0,0.608,1.0)\n",
              " RGB{N0f8}(0.0,0.827,1.0)\n",
              " RGB{N0f8}(0.886,0.388,0.051)\n",
              " RGB{N0f8}(0.0,0.494,0.0)\n",
              " RGB{N0f8}(0.0,0.314,0.902)\n",
              " RGB{N0f8}(0.675,0.0,0.278)\n",
              " RGB{N0f8}(0.0,1.0,0.784)\n",
              " RGB{N0f8}(0.0,0.392,0.408)\n",
              " RGB{N0f8}(1.0,0.835,0.769)\n",
              " RGB{N0f8}(0.424,0.322,0.0)\n",
              " RGB{N0f8}(0.478,0.459,0.506)\n",
              " ⋮\n",
              " RGB{N0f8}(0.0,0.557,0.58)\n",
              " RGB{N0f8}(0.792,0.675,0.318)\n",
              " RGB{N0f8}(0.471,0.482,0.231)\n",
              " RGB{N0f8}(0.714,0.976,0.851)\n",
              " RGB{N0f8}(0.855,0.0,0.247)\n",
              " RGB{N0f8}(0.18,0.129,0.141)\n",
              " RGB{N0f8}(0.0,0.345,0.082)\n",
              " RGB{N0f8}(1.0,0.557,0.114)\n",
              " RGB{N0f8}(0.4,0.455,0.694)\n",
              " RGB{N0f8}(0.0,0.804,0.678)\n",
              " RGB{N0f8}(0.0,0.498,0.388)\n",
              " RGB{N0f8}(0.6,0.435,0.239)"
            ],
            "image/svg+xml": [
              "<?xml version=\"1.0\" encoding=\"UTF-8\"?>\n",
              "<!DOCTYPE svg PUBLIC \"-//W3C//DTD SVG 1.1//EN\"\n",
              " \"http://www.w3.org/Graphics/SVG/1.1/DTD/svg11.dtd\">\n",
              "<svg xmlns=\"http://www.w3.org/2000/svg\" version=\"1.1\"\n",
              "     width=\"180mm\" height=\"25mm\"\n",
              "     viewBox=\"0 0 100 1\" preserveAspectRatio=\"none\"\n",
              "     shape-rendering=\"crispEdges\" stroke=\"none\">\n",
              "<rect width=\"1\" height=\".96\" x=\"0\" y=\"0\" fill=\"#000000\" />\n",
              "<rect width=\"1\" height=\".96\" x=\"1\" y=\"0\" fill=\"#FFFF74\" />\n",
              "<rect width=\"1\" height=\".96\" x=\"2\" y=\"0\" fill=\"#FF9BFF\" />\n",
              "<rect width=\"1\" height=\".96\" x=\"3\" y=\"0\" fill=\"#00D3FF\" />\n",
              "<rect width=\"1\" height=\".96\" x=\"4\" y=\"0\" fill=\"#E2630D\" />\n",
              "<rect width=\"1\" height=\".96\" x=\"5\" y=\"0\" fill=\"#007E00\" />\n",
              "<rect width=\"1\" height=\".96\" x=\"6\" y=\"0\" fill=\"#0050E6\" />\n",
              "<rect width=\"1\" height=\".96\" x=\"7\" y=\"0\" fill=\"#AC0047\" />\n",
              "<rect width=\"1\" height=\".96\" x=\"8\" y=\"0\" fill=\"#00FFC8\" />\n",
              "<rect width=\"1\" height=\".96\" x=\"9\" y=\"0\" fill=\"#006468\" />\n",
              "<rect width=\"1\" height=\".96\" x=\"10\" y=\"0\" fill=\"#FFD5C4\" />\n",
              "<rect width=\"1\" height=\".96\" x=\"11\" y=\"0\" fill=\"#6C5200\" />\n",
              "<rect width=\"1\" height=\".96\" x=\"12\" y=\"0\" fill=\"#7A7581\" />\n",
              "<rect width=\"1\" height=\".96\" x=\"13\" y=\"0\" fill=\"#44005C\" />\n",
              "<rect width=\"1\" height=\".96\" x=\"14\" y=\"0\" fill=\"#9E9E77\" />\n",
              "<rect width=\"1\" height=\".96\" x=\"15\" y=\"0\" fill=\"#FF5C78\" />\n",
              "<rect width=\"1\" height=\".96\" x=\"16\" y=\"0\" fill=\"#8197F1\" />\n",
              "<rect width=\"1\" height=\".96\" x=\"17\" y=\"0\" fill=\"#003200\" />\n",
              "<rect width=\"1\" height=\".96\" x=\"18\" y=\"0\" fill=\"#C721DD\" />\n",
              "<rect width=\"1\" height=\".96\" x=\"19\" y=\"0\" fill=\"#FFAD07\" />\n",
              "<rect width=\"1\" height=\".96\" x=\"20\" y=\"0\" fill=\"#611C00\" />\n",
              "<rect width=\"1\" height=\".96\" x=\"21\" y=\"0\" fill=\"#F3FFFA\" />\n",
              "<rect width=\"1\" height=\".96\" x=\"22\" y=\"0\" fill=\"#009E88\" />\n",
              "<rect width=\"1\" height=\".96\" x=\"23\" y=\"0\" fill=\"#5EC700\" />\n",
              "<rect width=\"1\" height=\".96\" x=\"24\" y=\"0\" fill=\"#002D54\" />\n",
              "<rect width=\"1\" height=\".96\" x=\"25\" y=\"0\" fill=\"#553C4A\" />\n",
              "<rect width=\"1\" height=\".96\" x=\"26\" y=\"0\" fill=\"#444439\" />\n",
              "<rect width=\"1\" height=\".96\" x=\"27\" y=\"0\" fill=\"#008FB6\" />\n",
              "<rect width=\"1\" height=\".96\" x=\"28\" y=\"0\" fill=\"#CFD4FD\" />\n",
              "<rect width=\"1\" height=\".96\" x=\"29\" y=\"0\" fill=\"#C40000\" />\n",
              "<rect width=\"1\" height=\".96\" x=\"30\" y=\"0\" fill=\"#A4675C\" />\n",
              "<rect width=\"1\" height=\".96\" x=\"31\" y=\"0\" fill=\"#BB8FA8\" />\n",
              "<rect width=\"1\" height=\".96\" x=\"32\" y=\"0\" fill=\"#290001\" />\n",
              "<rect width=\"1\" height=\".96\" x=\"33\" y=\"0\" fill=\"#A78600\" />\n",
              "<rect width=\"1\" height=\".96\" x=\"34\" y=\"0\" fill=\"#002D30\" />\n",
              "<rect width=\"1\" height=\".96\" x=\"35\" y=\"0\" fill=\"#C7DEAA\" />\n",
              "<rect width=\"1\" height=\".96\" x=\"36\" y=\"0\" fill=\"#8D9FA3\" />\n",
              "<rect width=\"1\" height=\".96\" x=\"37\" y=\"0\" fill=\"#6F5B95\" />\n",
              "<rect width=\"1\" height=\".96\" x=\"38\" y=\"0\" fill=\"#A1FFFF\" />\n",
              "<rect width=\"1\" height=\".96\" x=\"39\" y=\"0\" fill=\"#B39688\" />\n",
              "<rect width=\"1\" height=\".96\" x=\"40\" y=\"0\" fill=\"#4E6D50\" />\n",
              "<rect width=\"1\" height=\".96\" x=\"41\" y=\"0\" fill=\"#FF977B\" />\n",
              "<rect width=\"1\" height=\".96\" x=\"42\" y=\"0\" fill=\"#FFD1EC\" />\n",
              "<rect width=\"1\" height=\".96\" x=\"43\" y=\"0\" fill=\"#9E5100\" />\n",
              "<rect width=\"1\" height=\".96\" x=\"44\" y=\"0\" fill=\"#AE5B8E\" />\n",
              "<rect width=\"1\" height=\".96\" x=\"45\" y=\"0\" fill=\"#799400\" />\n",
              "<rect width=\"1\" height=\".96\" x=\"46\" y=\"0\" fill=\"#362200\" />\n",
              "<rect width=\"1\" height=\".96\" x=\"47\" y=\"0\" fill=\"#0E0026\" />\n",
              "<rect width=\"1\" height=\".96\" x=\"48\" y=\"0\" fill=\"#80765F\" />\n",
              "<rect width=\"1\" height=\".96\" x=\"49\" y=\"0\" fill=\"#485C00\" />\n",
              "<rect width=\"1\" height=\".96\" x=\"50\" y=\"0\" fill=\"#C8C2B5\" />\n",
              "<rect width=\"1\" height=\".96\" x=\"51\" y=\"0\" fill=\"#8800A1\" />\n",
              "<rect width=\"1\" height=\".96\" x=\"52\" y=\"0\" fill=\"#00A853\" />\n",
              "<rect width=\"1\" height=\".96\" x=\"53\" y=\"0\" fill=\"#FFE1AA\" />\n",
              "<rect width=\"1\" height=\".96\" x=\"54\" y=\"0\" fill=\"#674F42\" />\n",
              "<rect width=\"1\" height=\".96\" x=\"55\" y=\"0\" fill=\"#FF342D\" />\n",
              "<rect width=\"1\" height=\".96\" x=\"56\" y=\"0\" fill=\"#6B0041\" />\n",
              "<rect width=\"1\" height=\".96\" x=\"57\" y=\"0\" fill=\"#0806B1\" />\n",
              "<rect width=\"1\" height=\".96\" x=\"58\" y=\"0\" fill=\"#986DFF\" />\n",
              "<rect width=\"1\" height=\".96\" x=\"59\" y=\"0\" fill=\"#FF4EC7\" />\n",
              "<rect width=\"1\" height=\".96\" x=\"60\" y=\"0\" fill=\"#8AB9A2\" />\n",
              "<rect width=\"1\" height=\".96\" x=\"61\" y=\"0\" fill=\"#2EFF71\" />\n",
              "<rect width=\"1\" height=\".96\" x=\"62\" y=\"0\" fill=\"#005577\" />\n",
              "<rect width=\"1\" height=\".96\" x=\"63\" y=\"0\" fill=\"#0078E3\" />\n",
              "<rect width=\"1\" height=\".96\" x=\"64\" y=\"0\" fill=\"#B2ADB9\" />\n",
              "<rect width=\"1\" height=\".96\" x=\"65\" y=\"0\" fill=\"#00C3C6\" />\n",
              "<rect width=\"1\" height=\".96\" x=\"66\" y=\"0\" fill=\"#00AEFF\" />\n",
              "<rect width=\"1\" height=\".96\" x=\"67\" y=\"0\" fill=\"#4E545F\" />\n",
              "<rect width=\"1\" height=\".96\" x=\"68\" y=\"0\" fill=\"#FF9BB0\" />\n",
              "<rect width=\"1\" height=\".96\" x=\"69\" y=\"0\" fill=\"#FED206\" />\n",
              "<rect width=\"1\" height=\".96\" x=\"70\" y=\"0\" fill=\"#687B7A\" />\n",
              "<rect width=\"1\" height=\".96\" x=\"71\" y=\"0\" fill=\"#B1DCFC\" />\n",
              "<rect width=\"1\" height=\".96\" x=\"72\" y=\"0\" fill=\"#FFF6FF\" />\n",
              "<rect width=\"1\" height=\".96\" x=\"73\" y=\"0\" fill=\"#620019\" />\n",
              "<rect width=\"1\" height=\".96\" x=\"74\" y=\"0\" fill=\"#C79253\" />\n",
              "<rect width=\"1\" height=\".96\" x=\"75\" y=\"0\" fill=\"#A891CF\" />\n",
              "<rect width=\"1\" height=\".96\" x=\"76\" y=\"0\" fill=\"#EF007A\" />\n",
              "<rect width=\"1\" height=\".96\" x=\"77\" y=\"0\" fill=\"#B8CE00\" />\n",
              "<rect width=\"1\" height=\".96\" x=\"78\" y=\"0\" fill=\"#001700\" />\n",
              "<rect width=\"1\" height=\".96\" x=\"79\" y=\"0\" fill=\"#204B39\" />\n",
              "<rect width=\"1\" height=\".96\" x=\"80\" y=\"0\" fill=\"#875866\" />\n",
              "<rect width=\"1\" height=\".96\" x=\"81\" y=\"0\" fill=\"#B5FF4E\" />\n",
              "<rect width=\"1\" height=\".96\" x=\"82\" y=\"0\" fill=\"#B40080\" />\n",
              "<rect width=\"1\" height=\".96\" x=\"83\" y=\"0\" fill=\"#853F34\" />\n",
              "<rect width=\"1\" height=\".96\" x=\"84\" y=\"0\" fill=\"#69936B\" />\n",
              "<rect width=\"1\" height=\".96\" x=\"85\" y=\"0\" fill=\"#FFBC80\" />\n",
              "<rect width=\"1\" height=\".96\" x=\"86\" y=\"0\" fill=\"#4C3779\" />\n",
              "<rect width=\"1\" height=\".96\" x=\"87\" y=\"0\" fill=\"#323606\" />\n",
              "<rect width=\"1\" height=\".96\" x=\"88\" y=\"0\" fill=\"#008E94\" />\n",
              "<rect width=\"1\" height=\".96\" x=\"89\" y=\"0\" fill=\"#CAAC51\" />\n",
              "<rect width=\"1\" height=\".96\" x=\"90\" y=\"0\" fill=\"#787B3B\" />\n",
              "<rect width=\"1\" height=\".96\" x=\"91\" y=\"0\" fill=\"#B6F9D9\" />\n",
              "<rect width=\"1\" height=\".96\" x=\"92\" y=\"0\" fill=\"#DA003F\" />\n",
              "<rect width=\"1\" height=\".96\" x=\"93\" y=\"0\" fill=\"#2E2124\" />\n",
              "<rect width=\"1\" height=\".96\" x=\"94\" y=\"0\" fill=\"#005815\" />\n",
              "<rect width=\"1\" height=\".96\" x=\"95\" y=\"0\" fill=\"#FF8E1D\" />\n",
              "<rect width=\"1\" height=\".96\" x=\"96\" y=\"0\" fill=\"#6674B1\" />\n",
              "<rect width=\"1\" height=\".96\" x=\"97\" y=\"0\" fill=\"#00CDAD\" />\n",
              "<rect width=\"1\" height=\".96\" x=\"98\" y=\"0\" fill=\"#007F63\" />\n",
              "<rect width=\"1\" height=\".96\" x=\"99\" y=\"0\" fill=\"#996F3D\" />\n",
              "</svg>"
            ]
          },
          "metadata": {}
        }
      ],
      "execution_count": 13,
      "metadata": {
        "collapsed": true,
        "jupyter": {
          "source_hidden": false,
          "outputs_hidden": false
        },
        "nteract": {
          "transient": {
            "deleting": false
          }
        },
        "execution": {
          "iopub.status.busy": "2020-06-29T20:56:02.694Z",
          "iopub.execute_input": "2020-06-29T20:56:02.699Z",
          "iopub.status.idle": "2020-06-29T20:56:02.927Z"
        }
      }
    },
    {
      "cell_type": "code",
      "source": [
        "rand(palette,3,10)"
      ],
      "outputs": [
        {
          "output_type": "execute_result",
          "execution_count": 16,
          "data": {
            "text/plain": [
              "3×10 Array{RGB{N0f8},2} with eltype RGB{FixedPointNumbers.Normed{UInt8,8}}:\n",
              " RGB{N0f8}(1.0,0.82,0.925)     …  RGB{N0f8}(0.404,0.31,0.259)\n",
              " RGB{N0f8}(0.694,0.863,0.988)     RGB{N0f8}(0.435,0.357,0.584)\n",
              " RGB{N0f8}(0.125,0.294,0.224)     RGB{N0f8}(0.0,0.09,0.0)"
            ],
            "image/svg+xml": [
              "<?xml version=\"1.0\" encoding=\"UTF-8\"?>\n",
              "<!DOCTYPE svg PUBLIC \"-//W3C//DTD SVG 1.1//EN\"\n",
              " \"http://www.w3.org/Graphics/SVG/1.1/DTD/svg11.dtd\">\n",
              "<svg xmlns=\"http://www.w3.org/2000/svg\" version=\"1.1\"\n",
              "     width=\"180mm\" height=\"54mm\"\n",
              "     viewBox=\"0 0 10 3\" preserveAspectRatio=\"none\"\n",
              "     shape-rendering=\"crispEdges\" stroke=\"none\">\n",
              "<rect width=\".94\" height=\".94\" x=\"0\" y=\"0\" fill=\"#FFD1EC\" />\n",
              "<rect width=\".94\" height=\".94\" x=\"1\" y=\"0\" fill=\"#0E0026\" />\n",
              "<rect width=\".94\" height=\".94\" x=\"2\" y=\"0\" fill=\"#FF9BFF\" />\n",
              "<rect width=\".94\" height=\".94\" x=\"3\" y=\"0\" fill=\"#4E6D50\" />\n",
              "<rect width=\".94\" height=\".94\" x=\"4\" y=\"0\" fill=\"#002D54\" />\n",
              "<rect width=\".94\" height=\".94\" x=\"5\" y=\"0\" fill=\"#C8C2B5\" />\n",
              "<rect width=\".94\" height=\".94\" x=\"6\" y=\"0\" fill=\"#C7DEAA\" />\n",
              "<rect width=\".94\" height=\".94\" x=\"7\" y=\"0\" fill=\"#B8CE00\" />\n",
              "<rect width=\".94\" height=\".94\" x=\"8\" y=\"0\" fill=\"#0806B1\" />\n",
              "<rect width=\".94\" height=\".94\" x=\"9\" y=\"0\" fill=\"#674F42\" />\n",
              "<rect width=\".94\" height=\".94\" x=\"0\" y=\"1\" fill=\"#B1DCFC\" />\n",
              "<rect width=\".94\" height=\".94\" x=\"1\" y=\"1\" fill=\"#5EC700\" />\n",
              "<rect width=\".94\" height=\".94\" x=\"2\" y=\"1\" fill=\"#7A7581\" />\n",
              "<rect width=\".94\" height=\".94\" x=\"3\" y=\"1\" fill=\"#853F34\" />\n",
              "<rect width=\".94\" height=\".94\" x=\"4\" y=\"1\" fill=\"#002D54\" />\n",
              "<rect width=\".94\" height=\".94\" x=\"5\" y=\"1\" fill=\"#008E94\" />\n",
              "<rect width=\".94\" height=\".94\" x=\"6\" y=\"1\" fill=\"#674F42\" />\n",
              "<rect width=\".94\" height=\".94\" x=\"7\" y=\"1\" fill=\"#A78600\" />\n",
              "<rect width=\".94\" height=\".94\" x=\"8\" y=\"1\" fill=\"#000000\" />\n",
              "<rect width=\".94\" height=\".94\" x=\"9\" y=\"1\" fill=\"#6F5B95\" />\n",
              "<rect width=\".94\" height=\".94\" x=\"0\" y=\"2\" fill=\"#204B39\" />\n",
              "<rect width=\".94\" height=\".94\" x=\"1\" y=\"2\" fill=\"#008FB6\" />\n",
              "<rect width=\".94\" height=\".94\" x=\"2\" y=\"2\" fill=\"#6674B1\" />\n",
              "<rect width=\".94\" height=\".94\" x=\"3\" y=\"2\" fill=\"#787B3B\" />\n",
              "<rect width=\".94\" height=\".94\" x=\"4\" y=\"2\" fill=\"#FF9BB0\" />\n",
              "<rect width=\".94\" height=\".94\" x=\"5\" y=\"2\" fill=\"#8800A1\" />\n",
              "<rect width=\".94\" height=\".94\" x=\"6\" y=\"2\" fill=\"#687B7A\" />\n",
              "<rect width=\".94\" height=\".94\" x=\"7\" y=\"2\" fill=\"#444439\" />\n",
              "<rect width=\".94\" height=\".94\" x=\"8\" y=\"2\" fill=\"#6674B1\" />\n",
              "<rect width=\".94\" height=\".94\" x=\"9\" y=\"2\" fill=\"#001700\" />\n",
              "</svg>"
            ]
          },
          "metadata": {}
        }
      ],
      "execution_count": 16,
      "metadata": {
        "collapsed": true,
        "jupyter": {
          "source_hidden": false,
          "outputs_hidden": false
        },
        "nteract": {
          "transient": {
            "deleting": false
          }
        },
        "execution": {
          "iopub.status.busy": "2020-06-29T20:56:12.796Z",
          "iopub.execute_input": "2020-06-29T20:56:12.800Z",
          "iopub.status.idle": "2020-06-29T20:56:12.808Z"
        }
      }
    },
    {
      "cell_type": "code",
      "source": [
        "Pkg.add(\"Primes\")"
      ],
      "outputs": [
        {
          "output_type": "stream",
          "name": "stderr",
          "text": [
            "\u001b[32m\u001b[1m  Resolving\u001b[22m\u001b[39m package versions...\n",
            "\u001b[32m\u001b[1m  Installed\u001b[22m\u001b[39m Primes ─ v0.5.0\n",
            "\u001b[32m\u001b[1m   Updating\u001b[22m\u001b[39m `C:\\Users\\Van Der Weerd\\.julia\\environments\\v1.4\\Project.toml`\n",
            " \u001b[90m [27ebfcd6]\u001b[39m\u001b[92m + Primes v0.5.0\u001b[39m\n",
            "\u001b[32m\u001b[1m   Updating\u001b[22m\u001b[39m `C:\\Users\\Van Der Weerd\\.julia\\environments\\v1.4\\Manifest.toml`\n",
            " \u001b[90m [27ebfcd6]\u001b[39m\u001b[92m + Primes v0.5.0\u001b[39m\n"
          ]
        }
      ],
      "execution_count": 17,
      "metadata": {
        "collapsed": true,
        "jupyter": {
          "source_hidden": false,
          "outputs_hidden": false
        },
        "nteract": {
          "transient": {
            "deleting": false
          }
        },
        "execution": {
          "iopub.status.busy": "2020-06-29T20:57:31.500Z",
          "iopub.execute_input": "2020-06-29T20:57:31.512Z",
          "iopub.status.idle": "2020-06-29T20:57:34.101Z"
        }
      }
    },
    {
      "cell_type": "code",
      "source": [
        "using Primes"
      ],
      "outputs": [],
      "execution_count": 2,
      "metadata": {
        "collapsed": true,
        "jupyter": {
          "source_hidden": false,
          "outputs_hidden": false
        },
        "nteract": {
          "transient": {
            "deleting": false
          }
        },
        "execution": {
          "iopub.status.busy": "2020-06-29T21:02:19.390Z",
          "iopub.execute_input": "2020-06-29T21:02:19.394Z",
          "iopub.status.idle": "2020-06-29T21:02:19.402Z"
        }
      }
    },
    {
      "cell_type": "code",
      "source": [
        "@assert @isdefined Primes\n",
        "primes_list = primes(0,1000000)\n",
        "@assert primes_list == primes(1000000)\n",
        "@assert length(primes_list) == 78498\n",
        "length(primes_list)"
      ],
      "outputs": [
        {
          "output_type": "execute_result",
          "execution_count": 3,
          "data": {
            "text/plain": [
              "78498"
            ]
          },
          "metadata": {}
        }
      ],
      "execution_count": 3,
      "metadata": {
        "collapsed": true,
        "jupyter": {
          "source_hidden": false,
          "outputs_hidden": false
        },
        "nteract": {
          "transient": {
            "deleting": false
          }
        },
        "execution": {
          "iopub.status.busy": "2020-06-29T21:02:40.530Z",
          "iopub.execute_input": "2020-06-29T21:02:40.538Z",
          "iopub.status.idle": "2020-06-29T21:02:41.242Z"
        }
      }
    },
    {
      "cell_type": "code",
      "source": [
        "primes_list[1:10]"
      ],
      "outputs": [
        {
          "output_type": "execute_result",
          "execution_count": 6,
          "data": {
            "text/plain": [
              "10-element Array{Int64,1}:\n",
              "  2\n",
              "  3\n",
              "  5\n",
              "  7\n",
              " 11\n",
              " 13\n",
              " 17\n",
              " 19\n",
              " 23\n",
              " 29"
            ]
          },
          "metadata": {}
        }
      ],
      "execution_count": 6,
      "metadata": {
        "collapsed": true,
        "jupyter": {
          "source_hidden": false,
          "outputs_hidden": false
        },
        "nteract": {
          "transient": {
            "deleting": false
          }
        },
        "execution": {
          "iopub.status.busy": "2020-06-29T21:03:03.179Z",
          "iopub.execute_input": "2020-06-29T21:03:03.188Z",
          "iopub.status.idle": "2020-06-29T21:03:03.198Z"
        }
      }
    },
    {
      "cell_type": "code",
      "source": [],
      "outputs": [],
      "execution_count": null,
      "metadata": {
        "collapsed": true,
        "jupyter": {
          "source_hidden": false,
          "outputs_hidden": false
        },
        "nteract": {
          "transient": {
            "deleting": false
          }
        }
      }
    }
  ],
  "metadata": {
    "kernel_info": {
      "name": "julia-1.4"
    },
    "language_info": {
      "file_extension": ".jl",
      "name": "julia",
      "mimetype": "application/julia",
      "version": "1.4.1"
    },
    "kernelspec": {
      "argv": [
        "C:\\Users\\Van Der Weerd\\AppData\\Local\\Programs\\Julia\\Julia-1.4.1\\bin\\julia.exe",
        "-i",
        "--startup-file=yes",
        "--color=yes",
        "--project=@.",
        "C:\\Users\\Van Der Weerd\\.julia\\packages\\IJulia\\DrVMH\\src\\kernel.jl",
        "{connection_file}"
      ],
      "display_name": "Julia 1.4.1",
      "env": {},
      "interrupt_mode": "message",
      "language": "julia",
      "name": "julia-1.4"
    },
    "nteract": {
      "version": "0.23.3"
    }
  },
  "nbformat": 4,
  "nbformat_minor": 0
}