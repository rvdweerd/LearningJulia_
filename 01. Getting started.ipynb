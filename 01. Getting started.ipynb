{
  "cells": [
    {
      "cell_type": "code",
      "source": [
        "println(\"Hello there\")"
      ],
      "outputs": [
        {
          "output_type": "stream",
          "name": "stdout",
          "text": [
            "Hello there\n"
          ]
        }
      ],
      "execution_count": 35,
      "metadata": {
        "collapsed": true,
        "jupyter": {
          "source_hidden": false,
          "outputs_hidden": false
        },
        "nteract": {
          "transient": {
            "deleting": false
          }
        },
        "execution": {
          "iopub.status.busy": "2020-06-28T19:33:58.741Z",
          "iopub.execute_input": "2020-06-28T19:33:58.748Z",
          "iopub.status.idle": "2020-06-28T19:33:58.763Z"
        }
      }
    },
    {
      "cell_type": "code",
      "source": [
        "my_answer = 42\n",
        "typeof(my_answer)"
      ],
      "outputs": [
        {
          "output_type": "execute_result",
          "execution_count": 36,
          "data": {
            "text/plain": [
              "Int64"
            ]
          },
          "metadata": {}
        }
      ],
      "execution_count": 36,
      "metadata": {
        "collapsed": true,
        "jupyter": {
          "source_hidden": false,
          "outputs_hidden": false
        },
        "nteract": {
          "transient": {
            "deleting": false
          }
        },
        "execution": {
          "iopub.status.busy": "2020-06-28T19:33:58.775Z",
          "iopub.execute_input": "2020-06-28T19:33:58.780Z",
          "iopub.status.idle": "2020-06-28T19:33:58.792Z"
        }
      }
    },
    {
      "cell_type": "code",
      "source": [
        "pi = 3.141\n",
        "typeof(pi)"
      ],
      "outputs": [
        {
          "output_type": "execute_result",
          "execution_count": 37,
          "data": {
            "text/plain": [
              "Float64"
            ]
          },
          "metadata": {}
        }
      ],
      "execution_count": 37,
      "metadata": {
        "collapsed": true,
        "jupyter": {
          "source_hidden": false,
          "outputs_hidden": false
        },
        "nteract": {
          "transient": {
            "deleting": false
          }
        },
        "execution": {
          "iopub.status.busy": "2020-06-28T19:33:58.799Z",
          "iopub.execute_input": "2020-06-28T19:33:58.804Z",
          "iopub.status.idle": "2020-06-28T19:33:58.816Z"
        }
      }
    },
    {
      "cell_type": "code",
      "source": [
        "my_name = \"Rogier\""
      ],
      "outputs": [
        {
          "output_type": "execute_result",
          "execution_count": 38,
          "data": {
            "text/plain": [
              "\"Rogier\""
            ]
          },
          "metadata": {}
        }
      ],
      "execution_count": 38,
      "metadata": {
        "collapsed": true,
        "jupyter": {
          "source_hidden": false,
          "outputs_hidden": false
        },
        "nteract": {
          "transient": {
            "deleting": false
          }
        },
        "execution": {
          "iopub.status.busy": "2020-06-28T19:33:58.824Z",
          "iopub.execute_input": "2020-06-28T19:33:58.829Z",
          "iopub.status.idle": "2020-06-28T19:33:58.841Z"
        }
      }
    },
    {
      "cell_type": "code",
      "source": [
        "my_answer = my_name"
      ],
      "outputs": [
        {
          "output_type": "execute_result",
          "execution_count": 39,
          "data": {
            "text/plain": [
              "\"Rogier\""
            ]
          },
          "metadata": {}
        }
      ],
      "execution_count": 39,
      "metadata": {
        "collapsed": true,
        "jupyter": {
          "source_hidden": false,
          "outputs_hidden": false
        },
        "nteract": {
          "transient": {
            "deleting": false
          }
        },
        "execution": {
          "iopub.status.busy": "2020-06-28T19:33:58.848Z",
          "iopub.execute_input": "2020-06-28T19:33:58.855Z",
          "iopub.status.idle": "2020-06-28T19:33:58.866Z"
        }
      }
    },
    {
      "cell_type": "code",
      "source": [
        "typeof(my_answer)"
      ],
      "outputs": [
        {
          "output_type": "execute_result",
          "execution_count": 40,
          "data": {
            "text/plain": [
              "String"
            ]
          },
          "metadata": {}
        }
      ],
      "execution_count": 40,
      "metadata": {
        "collapsed": true,
        "jupyter": {
          "source_hidden": false,
          "outputs_hidden": false
        },
        "nteract": {
          "transient": {
            "deleting": false
          }
        },
        "execution": {
          "iopub.status.busy": "2020-06-28T19:33:58.876Z",
          "iopub.execute_input": "2020-06-28T19:33:58.880Z",
          "iopub.status.idle": "2020-06-28T19:33:58.893Z"
        }
      }
    },
    {
      "cell_type": "code",
      "source": [
        "# single comment"
      ],
      "outputs": [],
      "execution_count": 41,
      "metadata": {
        "collapsed": true,
        "jupyter": {
          "source_hidden": false,
          "outputs_hidden": false
        },
        "nteract": {
          "transient": {
            "deleting": false
          }
        },
        "execution": {
          "iopub.status.busy": "2020-06-28T19:33:58.901Z",
          "iopub.execute_input": "2020-06-28T19:33:58.907Z",
          "iopub.status.idle": "2020-06-28T19:33:58.916Z"
        }
      }
    },
    {
      "cell_type": "code",
      "source": [
        "#=\n",
        "233rf32f\n",
        "=#"
      ],
      "outputs": [],
      "execution_count": 42,
      "metadata": {
        "collapsed": true,
        "jupyter": {
          "source_hidden": false,
          "outputs_hidden": false
        },
        "nteract": {
          "transient": {
            "deleting": false
          }
        },
        "execution": {
          "iopub.status.busy": "2020-06-28T19:33:58.924Z",
          "iopub.execute_input": "2020-06-28T19:33:58.929Z",
          "iopub.status.idle": "2020-06-28T19:33:58.938Z"
        }
      }
    },
    {
      "cell_type": "code",
      "source": [
        "power = 10^2"
      ],
      "outputs": [
        {
          "output_type": "execute_result",
          "execution_count": 43,
          "data": {
            "text/plain": [
              "100"
            ]
          },
          "metadata": {}
        }
      ],
      "execution_count": 43,
      "metadata": {
        "collapsed": true,
        "jupyter": {
          "source_hidden": false,
          "outputs_hidden": false
        },
        "nteract": {
          "transient": {
            "deleting": false
          }
        },
        "execution": {
          "iopub.status.busy": "2020-06-28T19:33:58.946Z",
          "iopub.execute_input": "2020-06-28T19:33:58.952Z",
          "iopub.status.idle": "2020-06-28T19:33:58.964Z"
        }
      }
    },
    {
      "cell_type": "code",
      "source": [
        "modulus = 5%3"
      ],
      "outputs": [
        {
          "output_type": "execute_result",
          "execution_count": 44,
          "data": {
            "text/plain": [
              "2"
            ]
          },
          "metadata": {}
        }
      ],
      "execution_count": 44,
      "metadata": {
        "collapsed": true,
        "jupyter": {
          "source_hidden": false,
          "outputs_hidden": false
        },
        "nteract": {
          "transient": {
            "deleting": false
          }
        },
        "execution": {
          "iopub.status.busy": "2020-06-28T19:33:58.971Z",
          "iopub.execute_input": "2020-06-28T19:33:58.976Z",
          "iopub.status.idle": "2020-06-28T19:33:58.988Z"
        }
      }
    },
    {
      "cell_type": "code",
      "source": [
        "convert(Int,3.1)"
      ],
      "outputs": [
        {
          "output_type": "error",
          "ename": "InexactError",
          "evalue": "InexactError: Int64(3.1)",
          "traceback": [
            "InexactError: Int64(3.1)",
            "",
            "Stacktrace:",
            " [1] Int64 at .\\float.jl:710 [inlined]",
            " [2] convert(::Type{Int64}, ::Float64) at .\\number.jl:7",
            " [3] top-level scope at In[45]:1"
          ]
        }
      ],
      "execution_count": 45,
      "metadata": {
        "collapsed": true,
        "jupyter": {
          "source_hidden": false,
          "outputs_hidden": false
        },
        "nteract": {
          "transient": {
            "deleting": false
          }
        },
        "execution": {
          "iopub.status.busy": "2020-06-28T19:33:58.997Z",
          "iopub.execute_input": "2020-06-28T19:33:59.001Z",
          "iopub.status.idle": "2020-06-28T19:33:59.013Z"
        }
      }
    },
    {
      "cell_type": "code",
      "source": [
        "x=1/3"
      ],
      "outputs": [
        {
          "output_type": "execute_result",
          "execution_count": 46,
          "data": {
            "text/plain": [
              "0.3333333333333333"
            ]
          },
          "metadata": {}
        }
      ],
      "execution_count": 46,
      "metadata": {
        "collapsed": true,
        "jupyter": {
          "source_hidden": false,
          "outputs_hidden": false
        },
        "nteract": {
          "transient": {
            "deleting": false
          }
        },
        "execution": {
          "iopub.status.busy": "2020-06-28T19:33:59.021Z",
          "iopub.execute_input": "2020-06-28T19:33:59.026Z",
          "iopub.status.idle": "2020-06-28T19:33:59.037Z"
        }
      }
    },
    {
      "cell_type": "code",
      "source": [
        "typeof(x)"
      ],
      "outputs": [
        {
          "output_type": "execute_result",
          "execution_count": 47,
          "data": {
            "text/plain": [
              "Float64"
            ]
          },
          "metadata": {}
        }
      ],
      "execution_count": 47,
      "metadata": {
        "collapsed": true,
        "jupyter": {
          "source_hidden": false,
          "outputs_hidden": false
        },
        "nteract": {
          "transient": {
            "deleting": false
          }
        },
        "execution": {
          "iopub.status.busy": "2020-06-28T19:33:59.045Z",
          "iopub.execute_input": "2020-06-28T19:33:59.049Z",
          "iopub.status.idle": "2020-06-28T19:33:59.061Z"
        }
      }
    },
    {
      "cell_type": "code",
      "source": [
        "convert(Rational{Int32},x)"
      ],
      "outputs": [
        {
          "output_type": "execute_result",
          "execution_count": 49,
          "data": {
            "text/plain": [
              "1//3"
            ]
          },
          "metadata": {}
        }
      ],
      "execution_count": 49,
      "metadata": {
        "collapsed": true,
        "jupyter": {
          "source_hidden": false,
          "outputs_hidden": false
        },
        "nteract": {
          "transient": {
            "deleting": false
          }
        },
        "execution": {
          "iopub.status.busy": "2020-06-28T19:33:59.090Z",
          "iopub.execute_input": "2020-06-28T19:33:59.095Z",
          "iopub.status.idle": "2020-06-28T19:33:59.106Z"
        }
      }
    },
    {
      "cell_type": "code",
      "source": [
        "convert(Rational{Int64},x)"
      ],
      "outputs": [
        {
          "output_type": "execute_result",
          "execution_count": 50,
          "data": {
            "text/plain": [
              "6004799503160661//18014398509481984"
            ]
          },
          "metadata": {}
        }
      ],
      "execution_count": 50,
      "metadata": {
        "collapsed": true,
        "jupyter": {
          "source_hidden": false,
          "outputs_hidden": false
        },
        "nteract": {
          "transient": {
            "deleting": false
          }
        },
        "execution": {
          "iopub.status.busy": "2020-06-28T19:33:59.113Z",
          "iopub.execute_input": "2020-06-28T19:33:59.118Z",
          "iopub.status.idle": "2020-06-28T19:33:59.130Z"
        }
      }
    },
    {
      "cell_type": "code",
      "source": [
        "days = 365"
      ],
      "outputs": [
        {
          "output_type": "execute_result",
          "execution_count": 54,
          "data": {
            "text/plain": [
              "365"
            ]
          },
          "metadata": {}
        }
      ],
      "execution_count": 54,
      "metadata": {
        "collapsed": true,
        "jupyter": {
          "source_hidden": false,
          "outputs_hidden": false
        },
        "nteract": {
          "transient": {
            "deleting": false
          }
        },
        "execution": {
          "iopub.status.busy": "2020-06-28T19:35:00.218Z",
          "iopub.execute_input": "2020-06-28T19:35:00.225Z",
          "iopub.status.idle": "2020-06-28T19:35:00.241Z"
        }
      }
    },
    {
      "cell_type": "code",
      "source": [
        "typeof(days)"
      ],
      "outputs": [
        {
          "output_type": "execute_result",
          "execution_count": 55,
          "data": {
            "text/plain": [
              "Int64"
            ]
          },
          "metadata": {}
        }
      ],
      "execution_count": 55,
      "metadata": {
        "collapsed": true,
        "jupyter": {
          "source_hidden": false,
          "outputs_hidden": false
        },
        "nteract": {
          "transient": {
            "deleting": false
          }
        },
        "execution": {
          "iopub.status.busy": "2020-06-28T19:35:00.726Z",
          "iopub.execute_input": "2020-06-28T19:35:00.732Z",
          "iopub.status.idle": "2020-06-28T19:35:00.747Z"
        }
      }
    },
    {
      "cell_type": "code",
      "source": [
        "days_float = convert(Float32,days)"
      ],
      "outputs": [
        {
          "output_type": "execute_result",
          "execution_count": 58,
          "data": {
            "text/plain": [
              "365.0f0"
            ]
          },
          "metadata": {}
        }
      ],
      "execution_count": 58,
      "metadata": {
        "collapsed": true,
        "jupyter": {
          "source_hidden": false,
          "outputs_hidden": false
        },
        "nteract": {
          "transient": {
            "deleting": false
          }
        },
        "execution": {
          "iopub.status.busy": "2020-06-28T19:35:33.297Z",
          "iopub.execute_input": "2020-06-28T19:35:33.304Z",
          "iopub.status.idle": "2020-06-28T19:35:33.320Z"
        }
      }
    },
    {
      "cell_type": "code",
      "source": [
        "typeof(days_float)"
      ],
      "outputs": [
        {
          "output_type": "execute_result",
          "execution_count": 59,
          "data": {
            "text/plain": [
              "Float32"
            ]
          },
          "metadata": {}
        }
      ],
      "execution_count": 59,
      "metadata": {
        "collapsed": true,
        "jupyter": {
          "source_hidden": false,
          "outputs_hidden": false
        },
        "nteract": {
          "transient": {
            "deleting": false
          }
        },
        "execution": {
          "iopub.status.busy": "2020-06-28T19:35:34.762Z",
          "iopub.execute_input": "2020-06-28T19:35:34.768Z",
          "iopub.status.idle": "2020-06-28T19:35:34.781Z"
        }
      }
    },
    {
      "cell_type": "code",
      "source": [
        "@assert days == 365"
      ],
      "outputs": [],
      "execution_count": 63,
      "metadata": {
        "collapsed": true,
        "jupyter": {
          "source_hidden": false,
          "outputs_hidden": false
        },
        "nteract": {
          "transient": {
            "deleting": false
          }
        },
        "execution": {
          "iopub.status.busy": "2020-06-28T19:36:07.614Z",
          "iopub.execute_input": "2020-06-28T19:36:07.621Z",
          "iopub.status.idle": "2020-06-28T19:36:07.630Z"
        }
      }
    },
    {
      "cell_type": "code",
      "source": [
        "@assert days_float == 365.0"
      ],
      "outputs": [],
      "execution_count": 66,
      "metadata": {
        "collapsed": true,
        "jupyter": {
          "source_hidden": false,
          "outputs_hidden": false
        },
        "nteract": {
          "transient": {
            "deleting": false
          }
        },
        "execution": {
          "iopub.status.busy": "2020-06-28T19:36:24.872Z",
          "iopub.execute_input": "2020-06-28T19:36:24.879Z",
          "iopub.status.idle": "2020-06-28T19:36:24.889Z"
        }
      }
    },
    {
      "cell_type": "code",
      "source": [
        "parse(Int64,\"1001\",base=2)"
      ],
      "outputs": [
        {
          "output_type": "execute_result",
          "execution_count": 72,
          "data": {
            "text/plain": [
              "9"
            ]
          },
          "metadata": {}
        }
      ],
      "execution_count": 72,
      "metadata": {
        "collapsed": true,
        "jupyter": {
          "source_hidden": false,
          "outputs_hidden": false
        },
        "nteract": {
          "transient": {
            "deleting": false
          }
        },
        "execution": {
          "iopub.status.busy": "2020-06-28T19:38:28.740Z",
          "iopub.execute_input": "2020-06-28T19:38:28.747Z",
          "iopub.status.idle": "2020-06-28T19:38:28.762Z"
        }
      }
    },
    {
      "cell_type": "code",
      "source": [
        "parse(Int32,\"a1\",base=16)"
      ],
      "outputs": [
        {
          "output_type": "execute_result",
          "execution_count": 74,
          "data": {
            "text/plain": [
              "161"
            ]
          },
          "metadata": {}
        }
      ],
      "execution_count": 74,
      "metadata": {
        "collapsed": true,
        "jupyter": {
          "source_hidden": false,
          "outputs_hidden": false
        },
        "nteract": {
          "transient": {
            "deleting": false
          }
        },
        "execution": {
          "iopub.status.busy": "2020-06-28T19:39:18.533Z",
          "iopub.execute_input": "2020-06-28T19:39:18.540Z",
          "iopub.status.idle": "2020-06-28T19:39:18.556Z"
        }
      }
    },
    {
      "cell_type": "code",
      "source": [
        "\\:smi   =\"smiley cat!\""
      ],
      "outputs": [
        {
          "output_type": "error",
          "ename": "LoadError",
          "evalue": "syntax: \"\\\" is not a unary operator",
          "traceback": [
            "syntax: \"\\\" is not a unary operator",
            ""
          ]
        }
      ],
      "execution_count": 78,
      "metadata": {
        "collapsed": true,
        "jupyter": {
          "source_hidden": false,
          "outputs_hidden": false
        },
        "nteract": {
          "transient": {
            "deleting": false
          }
        },
        "execution": {
          "iopub.status.busy": "2020-06-28T19:44:29.979Z",
          "iopub.execute_input": "2020-06-28T19:44:29.990Z",
          "iopub.status.idle": "2020-06-28T19:44:30.007Z"
        }
      }
    },
    {
      "cell_type": "code",
      "source": [],
      "outputs": [
        {
          "output_type": "error",
          "ename": "LoadError",
          "evalue": "syntax: \"\\\" is not a unary operator",
          "traceback": [
            "syntax: \"\\\" is not a unary operator",
            ""
          ]
        }
      ],
      "execution_count": 79,
      "metadata": {
        "collapsed": true,
        "jupyter": {
          "source_hidden": false,
          "outputs_hidden": false
        },
        "nteract": {
          "transient": {
            "deleting": false
          }
        },
        "execution": {
          "iopub.status.busy": "2020-06-28T19:45:49.258Z",
          "iopub.execute_input": "2020-06-28T19:45:49.266Z",
          "iopub.status.idle": "2020-06-28T19:45:49.284Z"
        }
      }
    },
    {
      "cell_type": "code",
      "source": [],
      "outputs": [],
      "execution_count": null,
      "metadata": {
        "collapsed": true,
        "jupyter": {
          "source_hidden": false,
          "outputs_hidden": false
        },
        "nteract": {
          "transient": {
            "deleting": false
          }
        }
      }
    },
    {
      "cell_type": "code",
      "source": [],
      "outputs": [],
      "execution_count": null,
      "metadata": {
        "collapsed": true,
        "jupyter": {
          "source_hidden": false,
          "outputs_hidden": false
        },
        "nteract": {
          "transient": {
            "deleting": false
          }
        }
      }
    }
  ],
  "metadata": {
    "kernel_info": {
      "name": "python3"
    },
    "language_info": {
      "file_extension": ".jl",
      "name": "julia",
      "mimetype": "application/julia",
      "version": "1.4.1"
    },
    "kernelspec": {
      "argv": [
        "python",
        "-m",
        "ipykernel_launcher",
        "-f",
        "{connection_file}"
      ],
      "display_name": "Python 3",
      "language": "python",
      "name": "python3"
    },
    "nteract": {
      "version": "0.23.3"
    }
  },
  "nbformat": 4,
  "nbformat_minor": 0
}